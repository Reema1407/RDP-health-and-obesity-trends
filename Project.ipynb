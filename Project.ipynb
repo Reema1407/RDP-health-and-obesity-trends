{
  "cells": [
    {
      "cell_type": "markdown",
      "metadata": {
        "id": "lB3ZBwDxlkI0"
      },
      "source": [
        "![rmotr](https://user-images.githubusercontent.com/7065401/52071918-bda15380-2562-11e9-828c-7f95297e4a82.png)\n",
        "<hr style=\"margin-bottom: 40px;\">\n",
        "\n",
        "<img src=\"https://user-images.githubusercontent.com/7065401/68886973-eca24380-06f6-11ea-8327-3e9a22e22b43.png\"\n",
        "    style=\"width:400px; float: right; margin: 0 40px 40px 40px;\"></img>\n",
        "\n",
        "### Project\n",
        "\n",
        "# Health and Obesity trends\n",
        "\n",
        "Let's put in practice the topics covered in the course and analyze health and obesity trends."
      ]
    },
    {
      "cell_type": "markdown",
      "metadata": {
        "id": "NDiLHns_lkI1"
      },
      "source": [
        "![purple-divider](https://user-images.githubusercontent.com/7065401/52071927-c1cd7100-2562-11e9-908a-dde91ba14e59.png)\n",
        "\n",
        "## Hands on!"
      ]
    },
    {
      "cell_type": "code",
      "execution_count": 9,
      "metadata": {
        "id": "vnUKwyFolkI1"
      },
      "outputs": [],
      "source": [
        "import numpy as np\n",
        "import pandas as pd\n",
        "import sqlite3\n",
        "import requests\n",
        "\n",
        "%matplotlib inline"
      ]
    },
    {
      "cell_type": "code",
      "source": [
        "!git clone https://github.com/ine-rmotr-projects/RDP-health-and-obesity-trends.git"
      ],
      "metadata": {
        "id": "SY4czu9UmDM6",
        "outputId": "9dea42d8-059f-4979-d023-512a4daefe0b",
        "colab": {
          "base_uri": "https://localhost:8080/"
        }
      },
      "execution_count": 5,
      "outputs": [
        {
          "output_type": "stream",
          "name": "stdout",
          "text": [
            "Cloning into 'RDP-health-and-obesity-trends'...\n",
            "remote: Enumerating objects: 31, done.\u001b[K\n",
            "remote: Counting objects: 100% (31/31), done.\u001b[K\n",
            "remote: Compressing objects: 100% (25/25), done.\u001b[K\n",
            "remote: Total 31 (delta 11), reused 23 (delta 6), pack-reused 0\u001b[K\n",
            "Receiving objects: 100% (31/31), 161.60 KiB | 3.51 MiB/s, done.\n",
            "Resolving deltas: 100% (11/11), done.\n"
          ]
        }
      ]
    },
    {
      "cell_type": "markdown",
      "metadata": {
        "id": "VPQ85oSclkI2"
      },
      "source": [
        "![green-divider](https://user-images.githubusercontent.com/7065401/52071924-c003ad80-2562-11e9-8297-1c6595f8a7ff.png)\n",
        "\n",
        "### Read the dump of `USDA Food Composition Database` into a `food_df` DataFrame variable.\n",
        "\n",
        "The National Nutrient Database (NNDB) is provided by the [USDA](https://ndb.nal.usda.gov/ndb/) to allow the public to get standardized information on foods. They document the database and all supporting information on the USDA website.\n",
        "\n",
        "> Although the file format says \"txt\", we call these plain CSVs files and read it using `read_csv` method. Be aware of parsing correctly `NaN` values, data separator, encoding, quotechar and any other parsing option you think necessary.\n",
        "\n",
        "Here's a preview of that file:"
      ]
    },
    {
      "cell_type": "code",
      "execution_count": 6,
      "metadata": {
        "id": "bv4_WsSnlkI2",
        "outputId": "80dc99a8-e0e2-408c-cd3a-97a77fa45fd2",
        "colab": {
          "base_uri": "https://localhost:8080/"
        }
      },
      "outputs": [
        {
          "output_type": "stream",
          "name": "stdout",
          "text": [
            "~01001~^~0100~^~Butter, salted~^~BUTTER,WITH SALT~^^^~Y~^^0^^6.38^4.27^8.79^3.87\r\n",
            "~01002~^~0100~^~Butter, whipped, with salt~^~BUTTER,WHIPPED,W/ SALT~^^^~Y~^^0^^6.38^^^\r\n",
            "~01003~^~0100~^~Butter oil, anhydrous~^~BUTTER OIL,ANHYDROUS~^^^~Y~^^0^^6.38^4.27^8.79^3.87\r\n",
            "~01004~^~0100~^~Cheese, blue~^~CHEESE,BLUE~^^^~Y~^^0^^6.38^4.27^8.79^3.87\r\n",
            "~01005~^~0100~^~Cheese, brick~^~CHEESE,BRICK~^^^~Y~^^0^^6.38^4.27^8.79^3.87\r\n",
            "~01006~^~0100~^~Cheese, brie~^~CHEESE,BRIE~^^^~Y~^^0^^6.38^4.27^8.79^3.87\r\n",
            "~01007~^~0100~^~Cheese, camembert~^~CHEESE,CAMEMBERT~^^^~Y~^^0^^6.38^4.27^8.79^3.87\r\n",
            "~01008~^~0100~^~Cheese, caraway~^~CHEESE,CARAWAY~^^^^^0^^6.38^4.27^8.79^3.87\r\n",
            "~01009~^~0100~^~Cheese, cheddar (Includes foods for USDA's Food Distribution Program)~^~CHEESE,CHEDDAR~^^^~Y~^^0^^^^^\r\n",
            "~01010~^~0100~^~Cheese, cheshire~^~CHEESE,CHESHIRE~^^^^^0^^6.38^4.27^8.79^3.87\r\n"
          ]
        }
      ],
      "source": [
        "!head /content/RDP-health-and-obesity-trends/data/FOOD_DES.txt"
      ]
    },
    {
      "cell_type": "markdown",
      "metadata": {
        "id": "5-a1JLbzlkI3"
      },
      "source": [
        "The column names are taken from the original documentation for this dataset.\n",
        "\n",
        "> Use the given column names while reading the data."
      ]
    },
    {
      "cell_type": "code",
      "execution_count": 7,
      "metadata": {
        "id": "2wpya9dllkI3"
      },
      "outputs": [],
      "source": [
        "column_names = ['NDB_No', 'FdGrp_Cd', 'Long_Desc', 'Shrt_Desc', 'ComName',\n",
        "                'ManufacName', 'Survey', 'Ref_desc', 'Refuse', 'SciName',\n",
        "                'N_Factor', 'Pro_Factor', 'Fat_Factor', 'CHO_Factor']"
      ]
    },
    {
      "cell_type": "code",
      "execution_count": 10,
      "metadata": {
        "id": "-lpjXrMClkI3"
      },
      "outputs": [],
      "source": [
        "# your code goes here\n",
        "food=pd.read_csv('/content/RDP-health-and-obesity-trends/data/FOOD_DES.txt',\n",
        "                 sep='^',\n",
        "                 quotechar='~',\n",
        "                 header=None,\n",
        "                 names=column_names)\n",
        "\n"
      ]
    },
    {
      "cell_type": "markdown",
      "metadata": {
        "id": "PIfGb_oJlkI3"
      },
      "source": [
        "How many products do we have?"
      ]
    },
    {
      "cell_type": "code",
      "execution_count": 11,
      "metadata": {
        "id": "eqSU_C3ElkI3",
        "outputId": "0b8c4657-1ab8-4bd1-d213-957a14beabd3",
        "colab": {
          "base_uri": "https://localhost:8080/"
        }
      },
      "outputs": [
        {
          "output_type": "execute_result",
          "data": {
            "text/plain": [
              "2429"
            ]
          },
          "metadata": {},
          "execution_count": 11
        }
      ],
      "source": [
        "# your code goes here\n",
        "food.shape[0]"
      ]
    },
    {
      "cell_type": "markdown",
      "metadata": {
        "id": "N523--2rlkI3"
      },
      "source": [
        "![green-divider](https://user-images.githubusercontent.com/7065401/52071924-c003ad80-2562-11e9-8297-1c6595f8a7ff.png)\n",
        "\n",
        "### Variables distribution\n",
        "\n",
        "Analyze how values are distributed:\n",
        "\n",
        "- Create an histogram of `Refuse` variable.\n",
        "- Create a boxplot of `N_Factor` variable."
      ]
    },
    {
      "cell_type": "code",
      "execution_count": 12,
      "metadata": {
        "id": "hcT1mKSPlkI3",
        "outputId": "1fb27ac4-4b1b-4977-90c1-574f15f08279",
        "colab": {
          "base_uri": "https://localhost:8080/",
          "height": 447
        }
      },
      "outputs": [
        {
          "output_type": "execute_result",
          "data": {
            "text/plain": [
              "<Axes: ylabel='Frequency'>"
            ]
          },
          "metadata": {},
          "execution_count": 12
        },
        {
          "output_type": "display_data",
          "data": {
            "text/plain": [
              "<Figure size 640x480 with 1 Axes>"
            ],
            "image/png": "[encoded data removed]"
          },
          "metadata": {}
        }
      ],
      "source": [
        "# your code goes here\n",
        "food['Refuse'].plot(kind='hist')"
      ]
    },
    {
      "cell_type": "code",
      "execution_count": 13,
      "metadata": {
        "id": "st6t5UablkI3",
        "outputId": "5c0c6c2f-8376-461b-be02-9d6882532a9f",
        "colab": {
          "base_uri": "https://localhost:8080/",
          "height": 447
        }
      },
      "outputs": [
        {
          "output_type": "execute_result",
          "data": {
            "text/plain": [
              "<Axes: >"
            ]
          },
          "metadata": {},
          "execution_count": 13
        },
        {
          "output_type": "display_data",
          "data": {
            "text/plain": [
              "<Figure size 640x480 with 1 Axes>"
            ],
            "image/png": "[encoded data removed]"
          },
          "metadata": {}
        }
      ],
      "source": [
        "# your code goes here\n",
        "food['N_Factor'].plot(kind='box')"
      ]
    },
    {
      "cell_type": "markdown",
      "metadata": {
        "id": "GbRph0FulkI4"
      },
      "source": [
        "![green-divider](https://user-images.githubusercontent.com/7065401/52071924-c003ad80-2562-11e9-8297-1c6595f8a7ff.png)\n",
        "\n",
        "### Which are the top-10 food manufacturers with more products on `food_df`."
      ]
    },
    {
      "cell_type": "code",
      "execution_count": 16,
      "metadata": {
        "id": "8Ve0-rIvlkI4",
        "outputId": "07b124a3-7afa-4c00-9651-727c40b1648d",
        "colab": {
          "base_uri": "https://localhost:8080/",
          "height": 429
        }
      },
      "outputs": [
        {
          "output_type": "execute_result",
          "data": {
            "text/plain": [
              "ManufacName\n",
              "The Quaker Oats, Co.    71\n",
              "MEAD JOHNSON            40\n",
              "MOM Brands              31\n",
              "ABBOT NUTRTION          26\n",
              "Post Foods, LLC         21\n",
              "Kraft Foods, Inc.       18\n",
              "Chobani                 17\n",
              "B&G Foods, Inc          13\n",
              "GERBER                  12\n",
              "Campbell Soup Co.       10\n",
              "Name: count, dtype: int64"
            ],
            "text/html": [
              "<div>\n",
              "<style scoped>\n",
              "    .dataframe tbody tr th:only-of-type {\n",
              "        vertical-align: middle;\n",
              "    }\n",
              "\n",
              "    .dataframe tbody tr th {\n",
              "        vertical-align: top;\n",
              "    }\n",
              "\n",
              "    .dataframe thead th {\n",
              "        text-align: right;\n",
              "    }\n",
              "</style>\n",
              "<table border=\"1\" class=\"dataframe\">\n",
              "  <thead>\n",
              "    <tr style=\"text-align: right;\">\n",
              "      <th></th>\n",
              "      <th>count</th>\n",
              "    </tr>\n",
              "    <tr>\n",
              "      <th>ManufacName</th>\n",
              "      <th></th>\n",
              "    </tr>\n",
              "  </thead>\n",
              "  <tbody>\n",
              "    <tr>\n",
              "      <th>The Quaker Oats, Co.</th>\n",
              "      <td>71</td>\n",
              "    </tr>\n",
              "    <tr>\n",
              "      <th>MEAD JOHNSON</th>\n",
              "      <td>40</td>\n",
              "    </tr>\n",
              "    <tr>\n",
              "      <th>MOM Brands</th>\n",
              "      <td>31</td>\n",
              "    </tr>\n",
              "    <tr>\n",
              "      <th>ABBOT NUTRTION</th>\n",
              "      <td>26</td>\n",
              "    </tr>\n",
              "    <tr>\n",
              "      <th>Post Foods, LLC</th>\n",
              "      <td>21</td>\n",
              "    </tr>\n",
              "    <tr>\n",
              "      <th>Kraft Foods, Inc.</th>\n",
              "      <td>18</td>\n",
              "    </tr>\n",
              "    <tr>\n",
              "      <th>Chobani</th>\n",
              "      <td>17</td>\n",
              "    </tr>\n",
              "    <tr>\n",
              "      <th>B&amp;G Foods, Inc</th>\n",
              "      <td>13</td>\n",
              "    </tr>\n",
              "    <tr>\n",
              "      <th>GERBER</th>\n",
              "      <td>12</td>\n",
              "    </tr>\n",
              "    <tr>\n",
              "      <th>Campbell Soup Co.</th>\n",
              "      <td>10</td>\n",
              "    </tr>\n",
              "  </tbody>\n",
              "</table>\n",
              "</div><br><label><b>dtype:</b> int64</label>"
            ]
          },
          "metadata": {},
          "execution_count": 16
        }
      ],
      "source": [
        "# your code goes here\n",
        "top10 = food['ManufacName'].value_counts().head(10)\n",
        "top10"
      ]
    },
    {
      "cell_type": "markdown",
      "metadata": {
        "id": "B9t63VB2lkI4"
      },
      "source": [
        "Also create a bar plot showing that results."
      ]
    },
    {
      "cell_type": "code",
      "execution_count": 17,
      "metadata": {
        "id": "iZ7wYwvTlkI4",
        "outputId": "4776f9d6-e03d-46fe-dee1-2a3d7c5b5d4d",
        "colab": {
          "base_uri": "https://localhost:8080/",
          "height": 600
        }
      },
      "outputs": [
        {
          "output_type": "execute_result",
          "data": {
            "text/plain": [
              "<Axes: xlabel='ManufacName'>"
            ]
          },
          "metadata": {},
          "execution_count": 17
        },
        {
          "output_type": "display_data",
          "data": {
            "text/plain": [
              "<Figure size 640x480 with 1 Axes>"
            ],
            "image/png": "[encoded data removed]"
          },
          "metadata": {}
        }
      ],
      "source": [
        "# your code goes here\n",
        "top10.plot(kind='bar')"
      ]
    },
    {
      "cell_type": "markdown",
      "metadata": {
        "id": "nMCu4MQilkI4"
      },
      "source": [
        "![green-divider](https://user-images.githubusercontent.com/7065401/52071924-c003ad80-2562-11e9-8297-1c6595f8a7ff.png)\n",
        "\n",
        "## Analyzing Starbucks nutrition facts\n",
        "\n",
        "Starbucks is an American coffee chain founded in Seattle. It serves both beverages and food.\n",
        "\n",
        "<img width=\"650\" alt=\"Starbucks\" src=\"https://user-images.githubusercontent.com/7065401/68891327-57f01380-06ff-11ea-8461-eb35ba0c3bb0.png\">\n",
        "\n",
        "We'll analyze the nutritional information for Starbucks’ drink menu items using this [Nutrition facts for Starbucks drinks](https://www.kaggle.com/starbucks/starbucks) data. All nutritional information for drinks are for a 12oz serving size."
      ]
    },
    {
      "cell_type": "markdown",
      "metadata": {
        "id": "yC32VAOElkI4"
      },
      "source": [
        "![green-divider](https://user-images.githubusercontent.com/7065401/52071924-c003ad80-2562-11e9-8297-1c6595f8a7ff.png)\n",
        "\n",
        "### Getting Starbucks' drinks information\n",
        "\n",
        "- Create an sqlite3 connection to the `starbucks.db` SQLite3 database.\n",
        "- Read from the `drinks` table just the items with more than 100 calories and save them to a `drinks_df` DataFrame variable."
      ]
    },
    {
      "cell_type": "code",
      "execution_count": 19,
      "metadata": {
        "id": "rVvX7JaTlkI4"
      },
      "outputs": [],
      "source": [
        "# your code goes here\n",
        "conn = sqlite3.connect('/content/RDP-health-and-obesity-trends/data/starbucks.db')\n",
        "drinks_df = pd.read_sql('SELECT * FROM drinks WHERE Calories >100;',conn)\n",
        "conn.close()"
      ]
    },
    {
      "cell_type": "markdown",
      "metadata": {
        "id": "B5zEcEcVlkI4"
      },
      "source": [
        "![green-divider](https://user-images.githubusercontent.com/7065401/52071924-c003ad80-2562-11e9-8297-1c6595f8a7ff.png)\n",
        "\n",
        "### Which is the item with the highest calories?"
      ]
    },
    {
      "cell_type": "code",
      "execution_count": 22,
      "metadata": {
        "id": "AZJz9obJlkI4",
        "outputId": "1fe80935-1355-48d6-944f-ff36e9e70f83",
        "colab": {
          "base_uri": "https://localhost:8080/",
          "height": 303
        }
      },
      "outputs": [
        {
          "output_type": "execute_result",
          "data": {
            "text/plain": [
              "Item        Starbucks® Signature Hot Chocolate\n",
              "Calories                                 430.0\n",
              "Fat                                       26.0\n",
              "Carb                                      45.0\n",
              "Fiber                                      5.0\n",
              "Protein                                   12.0\n",
              "Sodium                                   115.0\n",
              "Name: 31, dtype: object"
            ],
            "text/html": [
              "<div>\n",
              "<style scoped>\n",
              "    .dataframe tbody tr th:only-of-type {\n",
              "        vertical-align: middle;\n",
              "    }\n",
              "\n",
              "    .dataframe tbody tr th {\n",
              "        vertical-align: top;\n",
              "    }\n",
              "\n",
              "    .dataframe thead th {\n",
              "        text-align: right;\n",
              "    }\n",
              "</style>\n",
              "<table border=\"1\" class=\"dataframe\">\n",
              "  <thead>\n",
              "    <tr style=\"text-align: right;\">\n",
              "      <th></th>\n",
              "      <th>31</th>\n",
              "    </tr>\n",
              "  </thead>\n",
              "  <tbody>\n",
              "    <tr>\n",
              "      <th>Item</th>\n",
              "      <td>Starbucks® Signature Hot Chocolate</td>\n",
              "    </tr>\n",
              "    <tr>\n",
              "      <th>Calories</th>\n",
              "      <td>430.0</td>\n",
              "    </tr>\n",
              "    <tr>\n",
              "      <th>Fat</th>\n",
              "      <td>26.0</td>\n",
              "    </tr>\n",
              "    <tr>\n",
              "      <th>Carb</th>\n",
              "      <td>45.0</td>\n",
              "    </tr>\n",
              "    <tr>\n",
              "      <th>Fiber</th>\n",
              "      <td>5.0</td>\n",
              "    </tr>\n",
              "    <tr>\n",
              "      <th>Protein</th>\n",
              "      <td>12.0</td>\n",
              "    </tr>\n",
              "    <tr>\n",
              "      <th>Sodium</th>\n",
              "      <td>115.0</td>\n",
              "    </tr>\n",
              "  </tbody>\n",
              "</table>\n",
              "</div><br><label><b>dtype:</b> object</label>"
            ]
          },
          "metadata": {},
          "execution_count": 22
        }
      ],
      "source": [
        "# your code goes here\n",
        "max_calories_item = drinks_df.loc[drinks_df['Calories'].idxmax()]\n",
        "max_calories_item"
      ]
    },
    {
      "cell_type": "markdown",
      "metadata": {
        "id": "j1CGaN__lkI4"
      },
      "source": [
        "![green-divider](https://user-images.githubusercontent.com/7065401/52071924-c003ad80-2562-11e9-8297-1c6595f8a7ff.png)\n",
        "\n",
        "### Create two groups of items: \"`less or equal 150 calories`\" and \"`more 150 calories`\""
      ]
    },
    {
      "cell_type": "code",
      "execution_count": 25,
      "metadata": {
        "id": "K8B3xELllkI5",
        "outputId": "d5686e96-261f-4017-a48d-df0932b5b43c",
        "colab": {
          "base_uri": "https://localhost:8080/",
          "height": 206
        }
      },
      "outputs": [
        {
          "output_type": "execute_result",
          "data": {
            "text/plain": [
              "                                         Item  Calories  Fat  Carb  Fiber  \\\n",
              "0     Evolution Fresh™ Organic Ginger Limeade     110.0  0.0  28.0    0.0   \n",
              "1      Iced Espresso Classics - Vanilla Latte     130.0  2.5  21.0    0.0   \n",
              "2        Iced Espresso Classics - Caffe Mocha     140.0  2.5  23.0    0.0   \n",
              "3  Iced Espresso Classics - Caramel Macchiato     130.0  2.5  21.0    0.0   \n",
              "4                   Tazo® Bottled Black Mango     150.0  0.0  38.0    0.0   \n",
              "\n",
              "   Protein  Sodium  \n",
              "0      0.0     5.0  \n",
              "1      5.0    65.0  \n",
              "2      5.0    90.0  \n",
              "3      5.0    65.0  \n",
              "4      0.0    15.0  "
            ],
            "text/html": [
              "\n",
              "  <div id=\"df-d156dd4d-33ca-4a3c-a7ff-0c5686f846e8\" class=\"colab-df-container\">\n",
              "    <div>\n",
              "<style scoped>\n",
              "    .dataframe tbody tr th:only-of-type {\n",
              "        vertical-align: middle;\n",
              "    }\n",
              "\n",
              "    .dataframe tbody tr th {\n",
              "        vertical-align: top;\n",
              "    }\n",
              "\n",
              "    .dataframe thead th {\n",
              "        text-align: right;\n",
              "    }\n",
              "</style>\n",
              "<table border=\"1\" class=\"dataframe\">\n",
              "  <thead>\n",
              "    <tr style=\"text-align: right;\">\n",
              "      <th></th>\n",
              "      <th>Item</th>\n",
              "      <th>Calories</th>\n",
              "      <th>Fat</th>\n",
              "      <th>Carb</th>\n",
              "      <th>Fiber</th>\n",
              "      <th>Protein</th>\n",
              "      <th>Sodium</th>\n",
              "    </tr>\n",
              "  </thead>\n",
              "  <tbody>\n",
              "    <tr>\n",
              "      <th>0</th>\n",
              "      <td>Evolution Fresh™ Organic Ginger Limeade</td>\n",
              "      <td>110.0</td>\n",
              "      <td>0.0</td>\n",
              "      <td>28.0</td>\n",
              "      <td>0.0</td>\n",
              "      <td>0.0</td>\n",
              "      <td>5.0</td>\n",
              "    </tr>\n",
              "    <tr>\n",
              "      <th>1</th>\n",
              "      <td>Iced Espresso Classics - Vanilla Latte</td>\n",
              "      <td>130.0</td>\n",
              "      <td>2.5</td>\n",
              "      <td>21.0</td>\n",
              "      <td>0.0</td>\n",
              "      <td>5.0</td>\n",
              "      <td>65.0</td>\n",
              "    </tr>\n",
              "    <tr>\n",
              "      <th>2</th>\n",
              "      <td>Iced Espresso Classics - Caffe Mocha</td>\n",
              "      <td>140.0</td>\n",
              "      <td>2.5</td>\n",
              "      <td>23.0</td>\n",
              "      <td>0.0</td>\n",
              "      <td>5.0</td>\n",
              "      <td>90.0</td>\n",
              "    </tr>\n",
              "    <tr>\n",
              "      <th>3</th>\n",
              "      <td>Iced Espresso Classics - Caramel Macchiato</td>\n",
              "      <td>130.0</td>\n",
              "      <td>2.5</td>\n",
              "      <td>21.0</td>\n",
              "      <td>0.0</td>\n",
              "      <td>5.0</td>\n",
              "      <td>65.0</td>\n",
              "    </tr>\n",
              "    <tr>\n",
              "      <th>4</th>\n",
              "      <td>Tazo® Bottled Black Mango</td>\n",
              "      <td>150.0</td>\n",
              "      <td>0.0</td>\n",
              "      <td>38.0</td>\n",
              "      <td>0.0</td>\n",
              "      <td>0.0</td>\n",
              "      <td>15.0</td>\n",
              "    </tr>\n",
              "  </tbody>\n",
              "</table>\n",
              "</div>\n",
              "    <div class=\"colab-df-buttons\">\n",
              "\n",
              "  <div class=\"colab-df-container\">\n",
              "    <button class=\"colab-df-convert\" onclick=\"convertToInteractive('df-d156dd4d-33ca-4a3c-a7ff-0c5686f846e8')\"\n",
              "            title=\"Convert this dataframe to an interactive table.\"\n",
              "            style=\"display:none;\">\n",
              "\n",
              "  <svg xmlns=\"http://www.w3.org/2000/svg\" height=\"24px\" viewBox=\"0 -960 960 960\">\n",
              "    <path d=\"M120-120v-720h720v720H120Zm60-500h600v-160H180v160Zm220 220h160v-160H400v160Zm0 220h160v-160H400v160ZM180-400h160v-160H180v160Zm440 0h160v-160H620v160ZM180-180h160v-160H180v160Zm440 0h160v-160H620v160Z\"/>\n",
              "  </svg>\n",
              "    </button>\n",
              "\n",
              "  <style>\n",
              "    .colab-df-container {\n",
              "      display:flex;\n",
              "      gap: 12px;\n",
              "    }\n",
              "\n",
              "    .colab-df-convert {\n",
              "      background-color: #E8F0FE;\n",
              "      border: none;\n",
              "      border-radius: 50%;\n",
              "      cursor: pointer;\n",
              "      display: none;\n",
              "      fill: #1967D2;\n",
              "      height: 32px;\n",
              "      padding: 0 0 0 0;\n",
              "      width: 32px;\n",
              "    }\n",
              "\n",
              "    .colab-df-convert:hover {\n",
              "      background-color: #E2EBFA;\n",
              "      box-shadow: 0px 1px 2px rgba(60, 64, 67, 0.3), 0px 1px 3px 1px rgba(60, 64, 67, 0.15);\n",
              "      fill: #174EA6;\n",
              "    }\n",
              "\n",
              "    .colab-df-buttons div {\n",
              "      margin-bottom: 4px;\n",
              "    }\n",
              "\n",
              "    [theme=dark] .colab-df-convert {\n",
              "      background-color: #3B4455;\n",
              "      fill: #D2E3FC;\n",
              "    }\n",
              "\n",
              "    [theme=dark] .colab-df-convert:hover {\n",
              "      background-color: #434B5C;\n",
              "      box-shadow: 0px 1px 3px 1px rgba(0, 0, 0, 0.15);\n",
              "      filter: drop-shadow(0px 1px 2px rgba(0, 0, 0, 0.3));\n",
              "      fill: #FFFFFF;\n",
              "    }\n",
              "  </style>\n",
              "\n",
              "    <script>\n",
              "      const buttonEl =\n",
              "        document.querySelector('#df-d156dd4d-33ca-4a3c-a7ff-0c5686f846e8 button.colab-df-convert');\n",
              "      buttonEl.style.display =\n",
              "        google.colab.kernel.accessAllowed ? 'block' : 'none';\n",
              "\n",
              "      async function convertToInteractive(key) {\n",
              "        const element = document.querySelector('#df-d156dd4d-33ca-4a3c-a7ff-0c5686f846e8');\n",
              "        const dataTable =\n",
              "          await google.colab.kernel.invokeFunction('convertToInteractive',\n",
              "                                                    [key], {});\n",
              "        if (!dataTable) return;\n",
              "\n",
              "        const docLinkHtml = 'Like what you see? Visit the ' +\n",
              "          '<a target=\"_blank\" href=https://colab.research.google.com/notebooks/data_table.ipynb>data table notebook</a>'\n",
              "          + ' to learn more about interactive tables.';\n",
              "        element.innerHTML = '';\n",
              "        dataTable['output_type'] = 'display_data';\n",
              "        await google.colab.output.renderOutput(dataTable, element);\n",
              "        const docLink = document.createElement('div');\n",
              "        docLink.innerHTML = docLinkHtml;\n",
              "        element.appendChild(docLink);\n",
              "      }\n",
              "    </script>\n",
              "  </div>\n",
              "\n",
              "\n",
              "<div id=\"df-2495b989-b45b-43a0-99f2-9c971829c38c\">\n",
              "  <button class=\"colab-df-quickchart\" onclick=\"quickchart('df-2495b989-b45b-43a0-99f2-9c971829c38c')\"\n",
              "            title=\"Suggest charts\"\n",
              "            style=\"display:none;\">\n",
              "\n",
              "<svg xmlns=\"http://www.w3.org/2000/svg\" height=\"24px\"viewBox=\"0 0 24 24\"\n",
              "     width=\"24px\">\n",
              "    <g>\n",
              "        <path d=\"M19 3H5c-1.1 0-2 .9-2 2v14c0 1.1.9 2 2 2h14c1.1 0 2-.9 2-2V5c0-1.1-.9-2-2-2zM9 17H7v-7h2v7zm4 0h-2V7h2v10zm4 0h-2v-4h2v4z\"/>\n",
              "    </g>\n",
              "</svg>\n",
              "  </button>\n",
              "\n",
              "<style>\n",
              "  .colab-df-quickchart {\n",
              "      --bg-color: #E8F0FE;\n",
              "      --fill-color: #1967D2;\n",
              "      --hover-bg-color: #E2EBFA;\n",
              "      --hover-fill-color: #174EA6;\n",
              "      --disabled-fill-color: #AAA;\n",
              "      --disabled-bg-color: #DDD;\n",
              "  }\n",
              "\n",
              "  [theme=dark] .colab-df-quickchart {\n",
              "      --bg-color: #3B4455;\n",
              "      --fill-color: #D2E3FC;\n",
              "      --hover-bg-color: #434B5C;\n",
              "      --hover-fill-color: #FFFFFF;\n",
              "      --disabled-bg-color: #3B4455;\n",
              "      --disabled-fill-color: #666;\n",
              "  }\n",
              "\n",
              "  .colab-df-quickchart {\n",
              "    background-color: var(--bg-color);\n",
              "    border: none;\n",
              "    border-radius: 50%;\n",
              "    cursor: pointer;\n",
              "    display: none;\n",
              "    fill: var(--fill-color);\n",
              "    height: 32px;\n",
              "    padding: 0;\n",
              "    width: 32px;\n",
              "  }\n",
              "\n",
              "  .colab-df-quickchart:hover {\n",
              "    background-color: var(--hover-bg-color);\n",
              "    box-shadow: 0 1px 2px rgba(60, 64, 67, 0.3), 0 1px 3px 1px rgba(60, 64, 67, 0.15);\n",
              "    fill: var(--button-hover-fill-color);\n",
              "  }\n",
              "\n",
              "  .colab-df-quickchart-complete:disabled,\n",
              "  .colab-df-quickchart-complete:disabled:hover {\n",
              "    background-color: var(--disabled-bg-color);\n",
              "    fill: var(--disabled-fill-color);\n",
              "    box-shadow: none;\n",
              "  }\n",
              "\n",
              "  .colab-df-spinner {\n",
              "    border: 2px solid var(--fill-color);\n",
              "    border-color: transparent;\n",
              "    border-bottom-color: var(--fill-color);\n",
              "    animation:\n",
              "      spin 1s steps(1) infinite;\n",
              "  }\n",
              "\n",
              "  @keyframes spin {\n",
              "    0% {\n",
              "      border-color: transparent;\n",
              "      border-bottom-color: var(--fill-color);\n",
              "      border-left-color: var(--fill-color);\n",
              "    }\n",
              "    20% {\n",
              "      border-color: transparent;\n",
              "      border-left-color: var(--fill-color);\n",
              "      border-top-color: var(--fill-color);\n",
              "    }\n",
              "    30% {\n",
              "      border-color: transparent;\n",
              "      border-left-color: var(--fill-color);\n",
              "      border-top-color: var(--fill-color);\n",
              "      border-right-color: var(--fill-color);\n",
              "    }\n",
              "    40% {\n",
              "      border-color: transparent;\n",
              "      border-right-color: var(--fill-color);\n",
              "      border-top-color: var(--fill-color);\n",
              "    }\n",
              "    60% {\n",
              "      border-color: transparent;\n",
              "      border-right-color: var(--fill-color);\n",
              "    }\n",
              "    80% {\n",
              "      border-color: transparent;\n",
              "      border-right-color: var(--fill-color);\n",
              "      border-bottom-color: var(--fill-color);\n",
              "    }\n",
              "    90% {\n",
              "      border-color: transparent;\n",
              "      border-bottom-color: var(--fill-color);\n",
              "    }\n",
              "  }\n",
              "</style>\n",
              "\n",
              "  <script>\n",
              "    async function quickchart(key) {\n",
              "      const quickchartButtonEl =\n",
              "        document.querySelector('#' + key + ' button');\n",
              "      quickchartButtonEl.disabled = true;  // To prevent multiple clicks.\n",
              "      quickchartButtonEl.classList.add('colab-df-spinner');\n",
              "      try {\n",
              "        const charts = await google.colab.kernel.invokeFunction(\n",
              "            'suggestCharts', [key], {});\n",
              "      } catch (error) {\n",
              "        console.error('Error during call to suggestCharts:', error);\n",
              "      }\n",
              "      quickchartButtonEl.classList.remove('colab-df-spinner');\n",
              "      quickchartButtonEl.classList.add('colab-df-quickchart-complete');\n",
              "    }\n",
              "    (() => {\n",
              "      let quickchartButtonEl =\n",
              "        document.querySelector('#df-2495b989-b45b-43a0-99f2-9c971829c38c button');\n",
              "      quickchartButtonEl.style.display =\n",
              "        google.colab.kernel.accessAllowed ? 'block' : 'none';\n",
              "    })();\n",
              "  </script>\n",
              "</div>\n",
              "\n",
              "    </div>\n",
              "  </div>\n"
            ],
            "application/vnd.google.colaboratory.intrinsic+json": {
              "type": "dataframe",
              "variable_name": "less_equal_150_cal",
              "summary": "{\n  \"name\": \"less_equal_150_cal\",\n  \"rows\": 32,\n  \"fields\": [\n    {\n      \"column\": \"Item\",\n      \"properties\": {\n        \"dtype\": \"string\",\n        \"num_unique_values\": 19,\n        \"samples\": [\n          \"Evolution Fresh\\u2122 Organic Ginger Limeade\",\n          \"Tazo\\u00ae Bottled Black with Lemon\",\n          \"Tazo\\u00ae Bottled Plum Pomegranate\"\n        ],\n        \"semantic_type\": \"\",\n        \"description\": \"\"\n      }\n    },\n    {\n      \"column\": \"Calories\",\n      \"properties\": {\n        \"dtype\": \"number\",\n        \"std\": 12.427207404359507,\n        \"min\": 110.0,\n        \"max\": 150.0,\n        \"num_unique_values\": 5,\n        \"samples\": [\n          130.0,\n          120.0,\n          140.0\n        ],\n        \"semantic_type\": \"\",\n        \"description\": \"\"\n      }\n    },\n    {\n      \"column\": \"Fat\",\n      \"properties\": {\n        \"dtype\": \"number\",\n        \"std\": 1.6251550794487475,\n        \"min\": 0.0,\n        \"max\": 6.0,\n        \"num_unique_values\": 6,\n        \"samples\": [\n          0.0,\n          2.5,\n          0.5\n        ],\n        \"semantic_type\": \"\",\n        \"description\": \"\"\n      }\n    },\n    {\n      \"column\": \"Carb\",\n      \"properties\": {\n        \"dtype\": \"number\",\n        \"std\": 7.90919993099094,\n        \"min\": 12.0,\n        \"max\": 38.0,\n        \"num_unique_values\": 11,\n        \"samples\": [\n          37.0,\n          28.0,\n          13.0\n        ],\n        \"semantic_type\": \"\",\n        \"description\": \"\"\n      }\n    },\n    {\n      \"column\": \"Fiber\",\n      \"properties\": {\n        \"dtype\": \"number\",\n        \"std\": 0.1767766952966369,\n        \"min\": 0.0,\n        \"max\": 1.0,\n        \"num_unique_values\": 2,\n        \"samples\": [\n          1.0,\n          0.0\n        ],\n        \"semantic_type\": \"\",\n        \"description\": \"\"\n      }\n    },\n    {\n      \"column\": \"Protein\",\n      \"properties\": {\n        \"dtype\": \"number\",\n        \"std\": 2.620483826294482,\n        \"min\": 0.0,\n        \"max\": 8.0,\n        \"num_unique_values\": 6,\n        \"samples\": [\n          0.0,\n          5.0\n        ],\n        \"semantic_type\": \"\",\n        \"description\": \"\"\n      }\n    },\n    {\n      \"column\": \"Sodium\",\n      \"properties\": {\n        \"dtype\": \"number\",\n        \"std\": 50.53120043836219,\n        \"min\": 5.0,\n        \"max\": 200.0,\n        \"num_unique_values\": 10,\n        \"samples\": [\n          200.0,\n          65.0\n        ],\n        \"semantic_type\": \"\",\n        \"description\": \"\"\n      }\n    }\n  ]\n}"
            }
          },
          "metadata": {},
          "execution_count": 25
        }
      ],
      "source": [
        "# your code goes here\n",
        "\n",
        "less_equal_150_cal = drinks_df[drinks_df['Calories']<=150]\n",
        "less_equal_150_cal.head()"
      ]
    },
    {
      "cell_type": "code",
      "execution_count": 27,
      "metadata": {
        "id": "jeCj5NxclkI5",
        "outputId": "7cfb7140-aca5-413e-ae36-0d71f411efdc",
        "colab": {
          "base_uri": "https://localhost:8080/",
          "height": 206
        }
      },
      "outputs": [
        {
          "output_type": "execute_result",
          "data": {
            "text/plain": [
              "                                            Item  Calories   Fat  Carb  Fiber  \\\n",
              "17  Starbucks® Doubleshot Protein Dark Chocolate     210.0   2.5  33.0    2.0   \n",
              "18         Starbucks® Doubleshot Protein Vanilla     200.0   2.5  34.0    2.0   \n",
              "30                                 Hot Chocolate     320.0   9.0  47.0    4.0   \n",
              "31            Starbucks® Signature Hot Chocolate     430.0  26.0  45.0    5.0   \n",
              "32                                   Caffè Latte     190.0   7.0  19.0    0.0   \n",
              "\n",
              "    Protein  Sodium  \n",
              "17     20.0   115.0  \n",
              "18     20.0   120.0  \n",
              "30     14.0   160.0  \n",
              "31     12.0   115.0  \n",
              "32     13.0   170.0  "
            ],
            "text/html": [
              "\n",
              "  <div id=\"df-74165e35-c126-4105-b24b-144a68c770e4\" class=\"colab-df-container\">\n",
              "    <div>\n",
              "<style scoped>\n",
              "    .dataframe tbody tr th:only-of-type {\n",
              "        vertical-align: middle;\n",
              "    }\n",
              "\n",
              "    .dataframe tbody tr th {\n",
              "        vertical-align: top;\n",
              "    }\n",
              "\n",
              "    .dataframe thead th {\n",
              "        text-align: right;\n",
              "    }\n",
              "</style>\n",
              "<table border=\"1\" class=\"dataframe\">\n",
              "  <thead>\n",
              "    <tr style=\"text-align: right;\">\n",
              "      <th></th>\n",
              "      <th>Item</th>\n",
              "      <th>Calories</th>\n",
              "      <th>Fat</th>\n",
              "      <th>Carb</th>\n",
              "      <th>Fiber</th>\n",
              "      <th>Protein</th>\n",
              "      <th>Sodium</th>\n",
              "    </tr>\n",
              "  </thead>\n",
              "  <tbody>\n",
              "    <tr>\n",
              "      <th>17</th>\n",
              "      <td>Starbucks® Doubleshot Protein Dark Chocolate</td>\n",
              "      <td>210.0</td>\n",
              "      <td>2.5</td>\n",
              "      <td>33.0</td>\n",
              "      <td>2.0</td>\n",
              "      <td>20.0</td>\n",
              "      <td>115.0</td>\n",
              "    </tr>\n",
              "    <tr>\n",
              "      <th>18</th>\n",
              "      <td>Starbucks® Doubleshot Protein Vanilla</td>\n",
              "      <td>200.0</td>\n",
              "      <td>2.5</td>\n",
              "      <td>34.0</td>\n",
              "      <td>2.0</td>\n",
              "      <td>20.0</td>\n",
              "      <td>120.0</td>\n",
              "    </tr>\n",
              "    <tr>\n",
              "      <th>30</th>\n",
              "      <td>Hot Chocolate</td>\n",
              "      <td>320.0</td>\n",
              "      <td>9.0</td>\n",
              "      <td>47.0</td>\n",
              "      <td>4.0</td>\n",
              "      <td>14.0</td>\n",
              "      <td>160.0</td>\n",
              "    </tr>\n",
              "    <tr>\n",
              "      <th>31</th>\n",
              "      <td>Starbucks® Signature Hot Chocolate</td>\n",
              "      <td>430.0</td>\n",
              "      <td>26.0</td>\n",
              "      <td>45.0</td>\n",
              "      <td>5.0</td>\n",
              "      <td>12.0</td>\n",
              "      <td>115.0</td>\n",
              "    </tr>\n",
              "    <tr>\n",
              "      <th>32</th>\n",
              "      <td>Caffè Latte</td>\n",
              "      <td>190.0</td>\n",
              "      <td>7.0</td>\n",
              "      <td>19.0</td>\n",
              "      <td>0.0</td>\n",
              "      <td>13.0</td>\n",
              "      <td>170.0</td>\n",
              "    </tr>\n",
              "  </tbody>\n",
              "</table>\n",
              "</div>\n",
              "    <div class=\"colab-df-buttons\">\n",
              "\n",
              "  <div class=\"colab-df-container\">\n",
              "    <button class=\"colab-df-convert\" onclick=\"convertToInteractive('df-74165e35-c126-4105-b24b-144a68c770e4')\"\n",
              "            title=\"Convert this dataframe to an interactive table.\"\n",
              "            style=\"display:none;\">\n",
              "\n",
              "  <svg xmlns=\"http://www.w3.org/2000/svg\" height=\"24px\" viewBox=\"0 -960 960 960\">\n",
              "    <path d=\"M120-120v-720h720v720H120Zm60-500h600v-160H180v160Zm220 220h160v-160H400v160Zm0 220h160v-160H400v160ZM180-400h160v-160H180v160Zm440 0h160v-160H620v160ZM180-180h160v-160H180v160Zm440 0h160v-160H620v160Z\"/>\n",
              "  </svg>\n",
              "    </button>\n",
              "\n",
              "  <style>\n",
              "    .colab-df-container {\n",
              "      display:flex;\n",
              "      gap: 12px;\n",
              "    }\n",
              "\n",
              "    .colab-df-convert {\n",
              "      background-color: #E8F0FE;\n",
              "      border: none;\n",
              "      border-radius: 50%;\n",
              "      cursor: pointer;\n",
              "      display: none;\n",
              "      fill: #1967D2;\n",
              "      height: 32px;\n",
              "      padding: 0 0 0 0;\n",
              "      width: 32px;\n",
              "    }\n",
              "\n",
              "    .colab-df-convert:hover {\n",
              "      background-color: #E2EBFA;\n",
              "      box-shadow: 0px 1px 2px rgba(60, 64, 67, 0.3), 0px 1px 3px 1px rgba(60, 64, 67, 0.15);\n",
              "      fill: #174EA6;\n",
              "    }\n",
              "\n",
              "    .colab-df-buttons div {\n",
              "      margin-bottom: 4px;\n",
              "    }\n",
              "\n",
              "    [theme=dark] .colab-df-convert {\n",
              "      background-color: #3B4455;\n",
              "      fill: #D2E3FC;\n",
              "    }\n",
              "\n",
              "    [theme=dark] .colab-df-convert:hover {\n",
              "      background-color: #434B5C;\n",
              "      box-shadow: 0px 1px 3px 1px rgba(0, 0, 0, 0.15);\n",
              "      filter: drop-shadow(0px 1px 2px rgba(0, 0, 0, 0.3));\n",
              "      fill: #FFFFFF;\n",
              "    }\n",
              "  </style>\n",
              "\n",
              "    <script>\n",
              "      const buttonEl =\n",
              "        document.querySelector('#df-74165e35-c126-4105-b24b-144a68c770e4 button.colab-df-convert');\n",
              "      buttonEl.style.display =\n",
              "        google.colab.kernel.accessAllowed ? 'block' : 'none';\n",
              "\n",
              "      async function convertToInteractive(key) {\n",
              "        const element = document.querySelector('#df-74165e35-c126-4105-b24b-144a68c770e4');\n",
              "        const dataTable =\n",
              "          await google.colab.kernel.invokeFunction('convertToInteractive',\n",
              "                                                    [key], {});\n",
              "        if (!dataTable) return;\n",
              "\n",
              "        const docLinkHtml = 'Like what you see? Visit the ' +\n",
              "          '<a target=\"_blank\" href=https://colab.research.google.com/notebooks/data_table.ipynb>data table notebook</a>'\n",
              "          + ' to learn more about interactive tables.';\n",
              "        element.innerHTML = '';\n",
              "        dataTable['output_type'] = 'display_data';\n",
              "        await google.colab.output.renderOutput(dataTable, element);\n",
              "        const docLink = document.createElement('div');\n",
              "        docLink.innerHTML = docLinkHtml;\n",
              "        element.appendChild(docLink);\n",
              "      }\n",
              "    </script>\n",
              "  </div>\n",
              "\n",
              "\n",
              "<div id=\"df-1bac7e8c-abb6-449a-b7f8-3892df4ce436\">\n",
              "  <button class=\"colab-df-quickchart\" onclick=\"quickchart('df-1bac7e8c-abb6-449a-b7f8-3892df4ce436')\"\n",
              "            title=\"Suggest charts\"\n",
              "            style=\"display:none;\">\n",
              "\n",
              "<svg xmlns=\"http://www.w3.org/2000/svg\" height=\"24px\"viewBox=\"0 0 24 24\"\n",
              "     width=\"24px\">\n",
              "    <g>\n",
              "        <path d=\"M19 3H5c-1.1 0-2 .9-2 2v14c0 1.1.9 2 2 2h14c1.1 0 2-.9 2-2V5c0-1.1-.9-2-2-2zM9 17H7v-7h2v7zm4 0h-2V7h2v10zm4 0h-2v-4h2v4z\"/>\n",
              "    </g>\n",
              "</svg>\n",
              "  </button>\n",
              "\n",
              "<style>\n",
              "  .colab-df-quickchart {\n",
              "      --bg-color: #E8F0FE;\n",
              "      --fill-color: #1967D2;\n",
              "      --hover-bg-color: #E2EBFA;\n",
              "      --hover-fill-color: #174EA6;\n",
              "      --disabled-fill-color: #AAA;\n",
              "      --disabled-bg-color: #DDD;\n",
              "  }\n",
              "\n",
              "  [theme=dark] .colab-df-quickchart {\n",
              "      --bg-color: #3B4455;\n",
              "      --fill-color: #D2E3FC;\n",
              "      --hover-bg-color: #434B5C;\n",
              "      --hover-fill-color: #FFFFFF;\n",
              "      --disabled-bg-color: #3B4455;\n",
              "      --disabled-fill-color: #666;\n",
              "  }\n",
              "\n",
              "  .colab-df-quickchart {\n",
              "    background-color: var(--bg-color);\n",
              "    border: none;\n",
              "    border-radius: 50%;\n",
              "    cursor: pointer;\n",
              "    display: none;\n",
              "    fill: var(--fill-color);\n",
              "    height: 32px;\n",
              "    padding: 0;\n",
              "    width: 32px;\n",
              "  }\n",
              "\n",
              "  .colab-df-quickchart:hover {\n",
              "    background-color: var(--hover-bg-color);\n",
              "    box-shadow: 0 1px 2px rgba(60, 64, 67, 0.3), 0 1px 3px 1px rgba(60, 64, 67, 0.15);\n",
              "    fill: var(--button-hover-fill-color);\n",
              "  }\n",
              "\n",
              "  .colab-df-quickchart-complete:disabled,\n",
              "  .colab-df-quickchart-complete:disabled:hover {\n",
              "    background-color: var(--disabled-bg-color);\n",
              "    fill: var(--disabled-fill-color);\n",
              "    box-shadow: none;\n",
              "  }\n",
              "\n",
              "  .colab-df-spinner {\n",
              "    border: 2px solid var(--fill-color);\n",
              "    border-color: transparent;\n",
              "    border-bottom-color: var(--fill-color);\n",
              "    animation:\n",
              "      spin 1s steps(1) infinite;\n",
              "  }\n",
              "\n",
              "  @keyframes spin {\n",
              "    0% {\n",
              "      border-color: transparent;\n",
              "      border-bottom-color: var(--fill-color);\n",
              "      border-left-color: var(--fill-color);\n",
              "    }\n",
              "    20% {\n",
              "      border-color: transparent;\n",
              "      border-left-color: var(--fill-color);\n",
              "      border-top-color: var(--fill-color);\n",
              "    }\n",
              "    30% {\n",
              "      border-color: transparent;\n",
              "      border-left-color: var(--fill-color);\n",
              "      border-top-color: var(--fill-color);\n",
              "      border-right-color: var(--fill-color);\n",
              "    }\n",
              "    40% {\n",
              "      border-color: transparent;\n",
              "      border-right-color: var(--fill-color);\n",
              "      border-top-color: var(--fill-color);\n",
              "    }\n",
              "    60% {\n",
              "      border-color: transparent;\n",
              "      border-right-color: var(--fill-color);\n",
              "    }\n",
              "    80% {\n",
              "      border-color: transparent;\n",
              "      border-right-color: var(--fill-color);\n",
              "      border-bottom-color: var(--fill-color);\n",
              "    }\n",
              "    90% {\n",
              "      border-color: transparent;\n",
              "      border-bottom-color: var(--fill-color);\n",
              "    }\n",
              "  }\n",
              "</style>\n",
              "\n",
              "  <script>\n",
              "    async function quickchart(key) {\n",
              "      const quickchartButtonEl =\n",
              "        document.querySelector('#' + key + ' button');\n",
              "      quickchartButtonEl.disabled = true;  // To prevent multiple clicks.\n",
              "      quickchartButtonEl.classList.add('colab-df-spinner');\n",
              "      try {\n",
              "        const charts = await google.colab.kernel.invokeFunction(\n",
              "            'suggestCharts', [key], {});\n",
              "      } catch (error) {\n",
              "        console.error('Error during call to suggestCharts:', error);\n",
              "      }\n",
              "      quickchartButtonEl.classList.remove('colab-df-spinner');\n",
              "      quickchartButtonEl.classList.add('colab-df-quickchart-complete');\n",
              "    }\n",
              "    (() => {\n",
              "      let quickchartButtonEl =\n",
              "        document.querySelector('#df-1bac7e8c-abb6-449a-b7f8-3892df4ce436 button');\n",
              "      quickchartButtonEl.style.display =\n",
              "        google.colab.kernel.accessAllowed ? 'block' : 'none';\n",
              "    })();\n",
              "  </script>\n",
              "</div>\n",
              "\n",
              "    </div>\n",
              "  </div>\n"
            ],
            "application/vnd.google.colaboratory.intrinsic+json": {
              "type": "dataframe",
              "variable_name": "more_150_cal",
              "summary": "{\n  \"name\": \"more_150_cal\",\n  \"rows\": 26,\n  \"fields\": [\n    {\n      \"column\": \"Item\",\n      \"properties\": {\n        \"dtype\": \"string\",\n        \"num_unique_values\": 25,\n        \"samples\": [\n          \"Coconutmilk Mocha Macchiato\",\n          \"Latte Macchiato\",\n          \"Starbucks\\u00ae Doubleshot Protein Dark Chocolate\"\n        ],\n        \"semantic_type\": \"\",\n        \"description\": \"\"\n      }\n    },\n    {\n      \"column\": \"Calories\",\n      \"properties\": {\n        \"dtype\": \"number\",\n        \"std\": 64.01081639367378,\n        \"min\": 180.0,\n        \"max\": 430.0,\n        \"num_unique_values\": 14,\n        \"samples\": [\n          230.0,\n          360.0,\n          210.0\n        ],\n        \"semantic_type\": \"\",\n        \"description\": \"\"\n      }\n    },\n    {\n      \"column\": \"Fat\",\n      \"properties\": {\n        \"dtype\": \"number\",\n        \"std\": 4.51510286108233,\n        \"min\": 2.0,\n        \"max\": 26.0,\n        \"num_unique_values\": 11,\n        \"samples\": [\n          6.0,\n          2.5,\n          5.0\n        ],\n        \"semantic_type\": \"\",\n        \"description\": \"\"\n      }\n    },\n    {\n      \"column\": \"Carb\",\n      \"properties\": {\n        \"dtype\": \"number\",\n        \"std\": 12.954357746155717,\n        \"min\": 18.0,\n        \"max\": 64.0,\n        \"num_unique_values\": 17,\n        \"samples\": [\n          33.0,\n          34.0,\n          42.0\n        ],\n        \"semantic_type\": \"\",\n        \"description\": \"\"\n      }\n    },\n    {\n      \"column\": \"Fiber\",\n      \"properties\": {\n        \"dtype\": \"number\",\n        \"std\": 2.3871450602050848,\n        \"min\": 0.0,\n        \"max\": 8.0,\n        \"num_unique_values\": 6,\n        \"samples\": [\n          2.0,\n          4.0,\n          7.0\n        ],\n        \"semantic_type\": \"\",\n        \"description\": \"\"\n      }\n    },\n    {\n      \"column\": \"Protein\",\n      \"properties\": {\n        \"dtype\": \"number\",\n        \"std\": 3.8542683631766765,\n        \"min\": 4.0,\n        \"max\": 20.0,\n        \"num_unique_values\": 11,\n        \"samples\": [\n          11.0,\n          20.0,\n          4.0\n        ],\n        \"semantic_type\": \"\",\n        \"description\": \"\"\n      }\n    },\n    {\n      \"column\": \"Sodium\",\n      \"properties\": {\n        \"dtype\": \"number\",\n        \"std\": 45.966961379468394,\n        \"min\": 0.0,\n        \"max\": 240.0,\n        \"num_unique_values\": 16,\n        \"samples\": [\n          115.0,\n          120.0,\n          150.0\n        ],\n        \"semantic_type\": \"\",\n        \"description\": \"\"\n      }\n    }\n  ]\n}"
            }
          },
          "metadata": {},
          "execution_count": 27
        }
      ],
      "source": [
        "# your code goes here\n",
        "\n",
        "more_150_cal = drinks_df[drinks_df['Calories']>150]\n",
        "more_150_cal.head()"
      ]
    },
    {
      "cell_type": "markdown",
      "metadata": {
        "id": "izJHrwiqlkI5"
      },
      "source": [
        "![green-divider](https://user-images.githubusercontent.com/7065401/52071924-c003ad80-2562-11e9-8297-1c6595f8a7ff.png)\n",
        "\n",
        "### Compare item characteristics\n",
        "\n",
        "Create a `compare_groups()` function that compares a given field of both groups of data, `less_equal_150_cal` and `more_150_cal`, by showing two overlapped histograms.\n",
        "\n",
        "- You should use different colors per histogram. Also add a little bit of opacity (use `alpha=0.4`).\n",
        "- The function MUST check that the given field exists, and raise `ValueError` with a \"Field not found\" message otherwise.\n"
      ]
    },
    {
      "cell_type": "code",
      "execution_count": 34,
      "metadata": {
        "id": "f2GNz6g5lkI5"
      },
      "outputs": [],
      "source": [
        "# your code goes here\n",
        "def compare_groups(field):\n",
        "    if field not in less_equal_150_cal.columns or field not in more_150_cal.columns:\n",
        "        raise ValueError(\"Field not found\")\n",
        "\n",
        "    # Histogram for the less_equal_150_cal group\n",
        "    less_equal_150_cal[field].plot(kind='hist',color='blue',alpha=0.4, title=field)\n",
        "\n",
        "    # Histogram for the more_150_cal group\n",
        "    more_150_cal[field].plot(kind='hist',color='red',alpha=0.4, title=field)"
      ]
    },
    {
      "cell_type": "markdown",
      "metadata": {
        "id": "iQTHaVFTlkI5"
      },
      "source": [
        "Validate your function showing a comparison of the `Calories` per group."
      ]
    },
    {
      "cell_type": "code",
      "execution_count": 35,
      "metadata": {
        "id": "9Noa4De4lkI5",
        "outputId": "37a1b8df-118d-4367-da64-44cc1d29ba43",
        "colab": {
          "base_uri": "https://localhost:8080/",
          "height": 452
        }
      },
      "outputs": [
        {
          "output_type": "display_data",
          "data": {
            "text/plain": [
              "<Figure size 640x480 with 1 Axes>"
            ],
            "image/png": "[encoded data removed]"
          },
          "metadata": {}
        }
      ],
      "source": [
        "# your code goes here\n",
        "compare_groups('Calories')"
      ]
    },
    {
      "cell_type": "markdown",
      "metadata": {
        "id": "_EZYSWJylkI5"
      },
      "source": [
        "Now answer: **Less Calories implies less Sodium?**"
      ]
    },
    {
      "cell_type": "code",
      "execution_count": 36,
      "metadata": {
        "id": "QOeZPIJhlkI5",
        "outputId": "a2ee89ff-e5d2-4cc8-9b21-f7977613e571",
        "colab": {
          "base_uri": "https://localhost:8080/",
          "height": 452
        }
      },
      "outputs": [
        {
          "output_type": "display_data",
          "data": {
            "text/plain": [
              "<Figure size 640x480 with 1 Axes>"
            ],
            "image/png": "[encoded data removed]"
          },
          "metadata": {}
        }
      ],
      "source": [
        "# your code goes here\n",
        "compare_groups('Sodium')"
      ]
    },
    {
      "cell_type": "markdown",
      "metadata": {
        "id": "si3vEhaTlkI5"
      },
      "source": [
        "**Less Calories implies less Carbs?**"
      ]
    },
    {
      "cell_type": "code",
      "execution_count": 38,
      "metadata": {
        "id": "HBCkPZXJlkI5",
        "outputId": "73db9146-bf2b-4657-de95-becfc60beb62",
        "colab": {
          "base_uri": "https://localhost:8080/",
          "height": 452
        }
      },
      "outputs": [
        {
          "output_type": "display_data",
          "data": {
            "text/plain": [
              "<Figure size 640x480 with 1 Axes>"
            ],
            "image/png": "[encoded data removed]"
          },
          "metadata": {}
        }
      ],
      "source": [
        "# your code goes here\n",
        "compare_groups('Carb')"
      ]
    },
    {
      "cell_type": "markdown",
      "metadata": {
        "id": "SRYqnvEylkI5"
      },
      "source": [
        "**Less Calories implies less Proteins?**"
      ]
    },
    {
      "cell_type": "code",
      "execution_count": 39,
      "metadata": {
        "id": "SokwcFanlkI5",
        "outputId": "d715d69e-065a-4200-cc83-7c0e0724c417",
        "colab": {
          "base_uri": "https://localhost:8080/",
          "height": 452
        }
      },
      "outputs": [
        {
          "output_type": "display_data",
          "data": {
            "text/plain": [
              "<Figure size 640x480 with 1 Axes>"
            ],
            "image/png": "[encoded data removed]"
          },
          "metadata": {}
        }
      ],
      "source": [
        "# your code goes here\n",
        "compare_groups('Protein')\n"
      ]
    },
    {
      "cell_type": "markdown",
      "metadata": {
        "id": "sj4ZKBPzlkI6"
      },
      "source": [
        "![green-divider](https://user-images.githubusercontent.com/7065401/52071924-c003ad80-2562-11e9-8297-1c6595f8a7ff.png)\n",
        "\n",
        "## Healthy diet interest\n",
        "\n",
        "In order to measure interest on healthy diets, we'll analyze how many pageviews the article `Healthy diet` received during the last years.\n",
        "\n",
        "![Food-piramid](https://user-images.githubusercontent.com/7065401/68880286-bf02cd80-06e9-11ea-8d42-ff6dbb539f7d.png)\n",
        "\n",
        "To get pageviews from Wikipedia, we'll need to use the _Analytics API_. Here you can find [the documentation](https://wikitech.wikimedia.org/wiki/Analytics/AQS/Pageviews) to get pageviews from an article.\n",
        "\n",
        "To get monthly pageviews for a given article, you can use the following endpoint:\n",
        "\n",
        "```\n",
        "https://wikimedia.org/api/rest_v1/metrics/pageviews/per-article/en.wikipedia/all-access/all-agents/{ARTICLE}/monthly/{START}/{END}\n",
        "```"
      ]
    },
    {
      "cell_type": "markdown",
      "metadata": {
        "id": "-S_SyFwZlkI6"
      },
      "source": [
        "![green-divider](https://user-images.githubusercontent.com/7065401/52071924-c003ad80-2562-11e9-8297-1c6595f8a7ff.png)\n",
        "\n",
        "### Get data from Wikipedia using its API\n",
        "\n",
        "Make a request to Wikipedia API to get monthly page views for `Healthy_diet` article from year 2015 (`2015010100`) to 2019 (`2019100100`).\n",
        "\n",
        "Store the response in a `pageviews_df` DataFrame variable."
      ]
    },
    {
      "cell_type": "code",
      "source": [
        "url = \"https://wikimedia.org/api/rest_v1/metrics/pageviews/per-article/en.wikipedia.org/all-access/all-agents/Healthy_diet/monthly/2015010100/2019100100\"\n",
        "\n",
        "headers = {\n",
        "    'User-Agent': 'Mozilla/5.0 (Windows NT 10.0; Win64; x64) AppleWebKit/537.36 (KHTML, like Gecko) Chrome/92.0.4515.159 Safari/537.36'\n",
        "}\n",
        "response = requests.get(url, headers=headers)\n",
        "\n",
        "if response.status_code == 200:\n",
        "    data = response.json()\n",
        "\n",
        "    pageviews_df = pd.DataFrame(data['items'])\n",
        "    print(pageviews_df.head())\n",
        "else:\n",
        "    print(f\"Failed to retrieve data: {response.status_code}\")\n"
      ],
      "metadata": {
        "id": "44KqQPa7E_e8",
        "outputId": "9ad7bce2-e81f-4008-dece-af7e6118748b",
        "colab": {
          "base_uri": "https://localhost:8080/"
        }
      },
      "execution_count": 48,
      "outputs": [
        {
          "output_type": "stream",
          "name": "stdout",
          "text": [
            "        project       article granularity   timestamp      access       agent  \\\n",
            "0  en.wikipedia  Healthy_diet     monthly  2015070100  all-access  all-agents   \n",
            "1  en.wikipedia  Healthy_diet     monthly  2015080100  all-access  all-agents   \n",
            "2  en.wikipedia  Healthy_diet     monthly  2015090100  all-access  all-agents   \n",
            "3  en.wikipedia  Healthy_diet     monthly  2015100100  all-access  all-agents   \n",
            "4  en.wikipedia  Healthy_diet     monthly  2015110100  all-access  all-agents   \n",
            "\n",
            "   views  \n",
            "0  24293  \n",
            "1  41794  \n",
            "2  23606  \n",
            "3  26351  \n",
            "4  24596  \n"
          ]
        }
      ]
    },
    {
      "cell_type": "markdown",
      "metadata": {
        "id": "iYUWMjkjlkI9"
      },
      "source": [
        "![green-divider](https://user-images.githubusercontent.com/7065401/52071924-c003ad80-2562-11e9-8297-1c6595f8a7ff.png)\n",
        "\n",
        "### When was the highest search peak?\n",
        "\n",
        "Save in a `max_pageviews_str` variable the date where `Healthy_diet` article had the highest volume of page views.\n",
        "\n",
        "Also save a `max_pageview_date` with that previous value parsed to `datetime`."
      ]
    },
    {
      "cell_type": "code",
      "execution_count": 50,
      "metadata": {
        "id": "nx5HX-FHlkI9",
        "outputId": "77a3629e-c781-4303-b74c-32a33eb0081d",
        "colab": {
          "base_uri": "https://localhost:8080/"
        }
      },
      "outputs": [
        {
          "output_type": "stream",
          "name": "stdout",
          "text": [
            "Date with the highest volume of page views (string): 2017070100\n",
            "Date with the highest volume of page views (datetime): 2017-07-01 00:00:00\n"
          ]
        }
      ],
      "source": [
        "# your code goes here\n",
        "from datetime import datetime\n",
        "max_pageviews_df = pageviews_df.loc[pageviews_df['views'].idxmax()]\n",
        "max_pageviews_str =max_pageviews_df['timestamp']\n",
        "max_pageviews_date =datetime.strptime(max_pageviews_str, '%Y%m%d%H')\n",
        "\n",
        "print(f\"Date with the highest volume of page views (string): {max_pageviews_str}\")\n",
        "print(f\"Date with the highest volume of page views (datetime): {max_pageviews_date}\")\n"
      ]
    },
    {
      "cell_type": "markdown",
      "metadata": {
        "id": "P3t4iPpqlkI9"
      },
      "source": [
        "We can draw a quick plot showing the evolution of `views` per month:"
      ]
    },
    {
      "cell_type": "code",
      "execution_count": 51,
      "metadata": {
        "id": "-b8wb1nalkI-",
        "outputId": "0a231fba-38c3-4144-e5cc-6dace2a02a3e",
        "colab": {
          "base_uri": "https://localhost:8080/",
          "height": 595
        }
      },
      "outputs": [
        {
          "output_type": "display_data",
          "data": {
            "text/plain": [
              "<Figure size 1400x600 with 1 Axes>"
            ],
            "image/png": "[encoded data removed]"
          },
          "metadata": {}
        }
      ],
      "source": [
        "import matplotlib.pyplot as plt\n",
        "\n",
        "plt.figure(figsize=(14, 6))\n",
        "plt.plot(pageviews_df['timestamp'], pageviews_df['views'])\n",
        "\n",
        "plt.axvline(x=max_pageviews_str, color='green')\n",
        "\n",
        "plt.xticks(rotation=90)\n",
        "plt.show()"
      ]
    },
    {
      "cell_type": "markdown",
      "metadata": {
        "id": "RBfHH7wvlkI-"
      },
      "source": [
        "![green-divider](https://user-images.githubusercontent.com/7065401/52071924-c003ad80-2562-11e9-8297-1c6595f8a7ff.png)\n",
        "\n",
        "### Get more data from Wikipedia API\n",
        "\n",
        "Create a `get_pageviews_count()` function that receives a variable number **article names** as argument, and returns a dictionary with the sum of pageviews during 2018 for each of these article names.\n",
        "\n",
        "- The function MUST check that at least one parameter is found, and raise a `ValueError` otherwise.\n",
        "\n",
        "```\n",
        "https://wikimedia.org/api/rest_v1/metrics/pageviews/per-article/en.wikipedia/all-access/all-agents/{ARTICLE}/monthly/2018010100/2018123100\n",
        "```"
      ]
    },
    {
      "cell_type": "code",
      "execution_count": 52,
      "metadata": {
        "id": "YwQ9MQBNlkI-"
      },
      "outputs": [],
      "source": [
        "# your code goes here\n",
        "\n",
        "def get_pageviews_count(*args):\n",
        "    if not args:\n",
        "      raise ValueError('not found')\n",
        "\n",
        "      base_url = \"https://wikimedia.org/api/rest_v1/metrics/pageviews/per-article/en.wikipedia.org/all-access/all-agents/{}/monthly/2018010100/2018120100\"\n",
        "      pageviews={}\n",
        "\n",
        "      for article in args:\n",
        "        url=base_url.format(article)\n",
        "\n",
        "        headers = {\n",
        "            'User-Agent': 'Mozilla/5.0 (Windows NT 10.0; Win64; x64) AppleWebKit/537.36 (KHTML, like Gecko) Chrome/92.0.4515.159 Safari/537.36'\n",
        "        }\n",
        "        response=requests.get(url,headers=headers)\n",
        "        if response.status_code == 200:\n",
        "          data = response.json()\n",
        "          article_df = pd.Dataframe(data['items'])\n",
        "          pageviews[article]=article_df['views'].sum()\n",
        "\n",
        "        return pageviews\n"
      ]
    },
    {
      "cell_type": "markdown",
      "metadata": {
        "id": "vwLvKwpMlkI-"
      },
      "source": [
        "Calling `get_pageviews_count('Healthy_diet', 'Food', 'Obesity')` should return something like:\n",
        "\n",
        "```\n",
        "{'Healthy_diet': 478712, 'Food': 1125874, 'Obesity': 1092577}\n",
        "```"
      ]
    },
    {
      "cell_type": "code",
      "execution_count": 54,
      "metadata": {
        "id": "JLvLZlVhlkI-"
      },
      "outputs": [],
      "source": [
        "get_pageviews_count('Healthy_diet', 'Food', 'Obesity')"
      ]
    },
    {
      "cell_type": "markdown",
      "metadata": {
        "id": "g18l6DuTlkI-"
      },
      "source": [
        "![green-divider](https://user-images.githubusercontent.com/7065401/52071924-c003ad80-2562-11e9-8297-1c6595f8a7ff.png)\n",
        "\n",
        "## Obesity trends in the USA\n",
        "\n",
        "Obesity in the United States is a major health issue, resulting in numerous diseases, specifically increased risk of certain types of cancer, coronary artery disease, type 2 diabetes, stroke, as well as significant increases in early mortality and economic costs.\n",
        "\n",
        "Let's analyze obesity trends on each state of the USA. To do that take a look at the _Obesity in the United States_ Wikipedia article where they analyze obesity revalence by state and territory.\n",
        "\n",
        "<img width=\"500\" alt=\"Obesity-trends\" src=\"https://user-images.githubusercontent.com/7065401/68873389-5a8e4100-06de-11ea-844c-5ec622af5caa.png\">"
      ]
    },
    {
      "cell_type": "code",
      "source": [
        "url = 'https://en.wikipedia.org/wiki/Obesity_in_the_United_States'\n",
        "\n",
        "# Read all tables on the page into a list of DataFrames\n",
        "tables = pd.read_html(url)\n",
        "\n",
        "# Check the number of tables and their content\n",
        "print(f\"Number of tables found: {len(tables)}\")\n",
        "\n",
        "# Display the first few rows of each table to find the right one\n",
        "for i, table in enumerate(tables):\n",
        "    print(f\"\\nTable {i}:\")\n",
        "    print(table.head())"
      ],
      "metadata": {
        "collapsed": true,
        "id": "Uc8ISJ6JeMBw",
        "outputId": "b847817f-f78c-4ac4-bce6-ca6c6d632663",
        "colab": {
          "base_uri": "https://localhost:8080/"
        }
      },
      "execution_count": 83,
      "outputs": [
        {
          "output_type": "stream",
          "name": "stdout",
          "text": [
            "Number of tables found: 16\n",
            "\n",
            "Table 0:\n",
            "    0                                                  1\n",
            "0 NaN  This section is empty. You can help by adding ...\n",
            "\n",
            "Table 1:\n",
            "  States, district,  & territories Obesity rank Obese adults                 \\\n",
            "  States, district,  & territories Obesity rank  (mid-2000s) (2020)[91][97]   \n",
            "0                          Alabama            5        30.1%          36.3%   \n",
            "1                           Alaska            9        27.3%          34.2%   \n",
            "2                   American Samoa            —            —        75%[95]   \n",
            "3                          Arizona           30        23.3%          29.5%   \n",
            "4                         Arkansas            7        28.1%          35.0%   \n",
            "\n",
            "  Overweight (incl. obese) adults (mid-2000s)  \\\n",
            "  Overweight (incl. obese) adults (mid-2000s)   \n",
            "0                                       65.4%   \n",
            "1                                       64.5%   \n",
            "2                                     95%[98]   \n",
            "3                                       59.5%   \n",
            "4                                       64.7%   \n",
            "\n",
            "  Obese children and adolescents (mid-2000s)[96]  \n",
            "  Obese children and adolescents (mid-2000s)[96]  \n",
            "0                                          16.7%  \n",
            "1                                          11.1%  \n",
            "2                                    35%[95][99]  \n",
            "3                                          12.2%  \n",
            "4                                          16.4%  \n",
            "\n",
            "Table 2:\n",
            "  vteUnited States articles                        vteUnited States articles.1\n",
            "0                   History  By period 1776–1789 1789–1815 1815–1849 1849–1...\n",
            "1                 By period  1776–1789 1789–1815 1815–1849 1849–1865 1865–1...\n",
            "2                  By event  Pre-colonial era Colonial era Stamp Act Congre...\n",
            "3                  By topic  Outline of U.S. history Demographic Discoverie...\n",
            "4                 Geography  Territory Contiguous United States counties fe...\n",
            "\n",
            "Table 3:\n",
            "           0                                                  1\n",
            "0  By period  1776–1789 1789–1815 1815–1849 1849–1865 1865–1...\n",
            "1   By event  Pre-colonial era Colonial era Stamp Act Congre...\n",
            "2   By topic  Outline of U.S. history Demographic Discoverie...\n",
            "\n",
            "Table 4:\n",
            "                                                   0  \\\n",
            "0  Territory Contiguous United States counties fe...   \n",
            "\n",
            "                                                   1  \n",
            "0  Territory Contiguous United States counties fe...  \n",
            "\n",
            "Table 5:\n",
            "                                                   0  \\\n",
            "0  FederalExecutive President of the United State...   \n",
            "1                                            Federal   \n",
            "2                                          Executive   \n",
            "3                                        Legislative   \n",
            "4                                           Judicial   \n",
            "\n",
            "                                                   1  \n",
            "0  FederalExecutive President of the United State...  \n",
            "1  Executive President of the United States power...  \n",
            "2  President of the United States powers Executiv...  \n",
            "3  House of Representatives current members Speak...  \n",
            "4  Supreme Court Chief Justice Associate Justices...  \n",
            "\n",
            "Table 6:\n",
            "             0                                                  1\n",
            "0      Federal  Executive President of the United States power...\n",
            "1    Executive  President of the United States powers Executiv...\n",
            "2  Legislative  House of Representatives current members Speak...\n",
            "3     Judicial  Supreme Court Chief Justice Associate Justices...\n",
            "4          Law  Bill of Rights civil liberties Code of Federal...\n",
            "\n",
            "Table 7:\n",
            "             0                                                  1\n",
            "0    Executive  President of the United States powers Executiv...\n",
            "1  Legislative  House of Representatives current members Speak...\n",
            "2     Judicial  Supreme Court Chief Justice Associate Justices...\n",
            "3          Law  Bill of Rights civil liberties Code of Federal...\n",
            "4    Uniformed  Armed Forces Army Marine Corps Navy Air Force ...\n",
            "\n",
            "Table 8:\n",
            "             0                                                  1\n",
            "0    Executive  Governor list Lieutenant governor list Secreta...\n",
            "1  Legislative           List of legislatures List of legislators\n",
            "2     Judicial  Supreme courts Chief justices District attorne...\n",
            "3          Law  State constitutions Statutory codes Uniform ac...\n",
            "\n",
            "Table 9:\n",
            "                  0                                                  1\n",
            "0            County  List of counties and county equivalents County...\n",
            "1            Cities  Consolidated city-county Independent city Cote...\n",
            "2   Minor divisions                              Township Town meeting\n",
            "3  Special district                               School district list\n",
            "\n",
            "Table 10:\n",
            "                                                   0  \\\n",
            "0  By sector Agriculture Banking Communications C...   \n",
            "1                                          Transport   \n",
            "\n",
            "                                                   1  \n",
            "0  By sector Agriculture Banking Communications C...  \n",
            "1  Aviation Driving Public transportation Rail tr...  \n",
            "\n",
            "Table 11:\n",
            "                                                   0  \\\n",
            "0  Culture Americana Architecture Cinema Crime Cu...   \n",
            "1                                            Culture   \n",
            "2                                       Social class   \n",
            "3                                             Health   \n",
            "4                                             Issues   \n",
            "\n",
            "                                                   1  \n",
            "0  Culture Americana Architecture Cinema Crime Cu...  \n",
            "1  Americana Architecture Cinema Crime Cuisine Da...  \n",
            "2  Affluence American Dream Educational attainmen...  \n",
            "3  Aging Healthcare Abortion Birth control Prenat...  \n",
            "4  Ages of consent Capital punishment Crime incar...  \n",
            "\n",
            "Table 12:\n",
            "              0                                                  1\n",
            "0       Culture  Americana Architecture Cinema Crime Cuisine Da...\n",
            "1  Social class  Affluence American Dream Educational attainmen...\n",
            "2        Health  Aging Healthcare Abortion Birth control Prenat...\n",
            "3        Issues  Ages of consent Capital punishment Crime incar...\n",
            "\n",
            "Table 13:\n",
            "                vteUnited States state-related lists  \\\n",
            "0  List of states and territories of the United S...   \n",
            "1                                       Demographics   \n",
            "2                                            Economy   \n",
            "3                                        Environment   \n",
            "4                                          Geography   \n",
            "\n",
            "              vteUnited States state-related lists.1  \n",
            "0  List of states and territories of the United S...  \n",
            "1  Population African American Amish Asian Birth ...  \n",
            "2  Billionaires Budgets Companies Credit ratings ...  \n",
            "3  Botanical gardens Carbon dioxide emissions Par...  \n",
            "4  Area Bays Beaches Coastline Elevation Extreme ...  \n",
            "\n",
            "Table 14:\n",
            "          vteObesity in North America  \\\n",
            "0                    Sovereign states   \n",
            "1  Dependencies and other territories   \n",
            "\n",
            "                       vteObesity in North America.1  \n",
            "0  Antigua and Barbuda Bahamas Barbados Belize Ca...  \n",
            "1  Anguilla Aruba Bermuda Bonaire British Virgin ...  \n",
            "\n",
            "Table 15:\n",
            "  vteSocial issues in the United States  \\\n",
            "0                               Economy   \n",
            "1                             Education   \n",
            "2                           Environment   \n",
            "3                                Family   \n",
            "4                              Children   \n",
            "\n",
            "             vteSocial issues in the United States.1  \n",
            "0  Abusive supervision Communications Cost of liv...  \n",
            "1  Educational inequality Higher education bubble...  \n",
            "2  Conservation Climate change Natural disasters ...  \n",
            "3  Cohabitation Domestic violence Extended family...  \n",
            "4  Abortion Child abuse Child labor Child marriag...  \n"
          ]
        }
      ]
    },
    {
      "cell_type": "code",
      "execution_count": 103,
      "metadata": {
        "id": "Fdc4CSUZlkI-"
      },
      "outputs": [],
      "source": [
        "url = 'https://en.wikipedia.org/wiki/Obesity_in_the_United_States'"
      ]
    },
    {
      "cell_type": "markdown",
      "metadata": {
        "id": "asaSgxcAlkI-"
      },
      "source": [
        "![green-divider](https://user-images.githubusercontent.com/7065401/52071924-c003ad80-2562-11e9-8297-1c6595f8a7ff.png)\n",
        "\n",
        "### Read the HTML table at the end of the article into a `obesity_df` DataFrame object.\n",
        "\n",
        "> Be aware of parsing correctly `NaN` values that appear as `—` characters.\n",
        "\n",
        "<img width=\"450\" alt=\"Obesity-table\" src=\"https://user-images.githubusercontent.com/7065401/68880373-e5286d80-06e9-11ea-9bd0-f59ffcf02341.png\">"
      ]
    },
    {
      "cell_type": "code",
      "execution_count": 117,
      "metadata": {
        "id": "boaBDp4wlkI-",
        "outputId": "0adef560-bebf-462c-cda1-e25cefae00f9",
        "colab": {
          "base_uri": "https://localhost:8080/",
          "height": 272
        }
      },
      "outputs": [
        {
          "output_type": "execute_result",
          "data": {
            "text/plain": [
              "  States, district,  & territories Obesity rank Obese adults                 \\\n",
              "  States, district,  & territories Obesity rank  (mid-2000s) (2020)[91][97]   \n",
              "0                          Alabama          5.0        30.1%          36.3%   \n",
              "1                           Alaska          9.0        27.3%          34.2%   \n",
              "2                   American Samoa          NaN          NaN        75%[95]   \n",
              "3                          Arizona         30.0        23.3%          29.5%   \n",
              "4                         Arkansas          7.0        28.1%          35.0%   \n",
              "\n",
              "  Overweight (incl. obese) adults (mid-2000s)  \\\n",
              "  Overweight (incl. obese) adults (mid-2000s)   \n",
              "0                                       65.4%   \n",
              "1                                       64.5%   \n",
              "2                                     95%[98]   \n",
              "3                                       59.5%   \n",
              "4                                       64.7%   \n",
              "\n",
              "  Obese children and adolescents (mid-2000s)[96]  \n",
              "  Obese children and adolescents (mid-2000s)[96]  \n",
              "0                                          16.7%  \n",
              "1                                          11.1%  \n",
              "2                                    35%[95][99]  \n",
              "3                                          12.2%  \n",
              "4                                          16.4%  "
            ],
            "text/html": [
              "\n",
              "  <div id=\"df-94612b0d-462d-4aa1-88af-2747cecd3f2a\" class=\"colab-df-container\">\n",
              "    <div>\n",
              "<style scoped>\n",
              "    .dataframe tbody tr th:only-of-type {\n",
              "        vertical-align: middle;\n",
              "    }\n",
              "\n",
              "    .dataframe tbody tr th {\n",
              "        vertical-align: top;\n",
              "    }\n",
              "\n",
              "    .dataframe thead tr th {\n",
              "        text-align: left;\n",
              "    }\n",
              "</style>\n",
              "<table border=\"1\" class=\"dataframe\">\n",
              "  <thead>\n",
              "    <tr>\n",
              "      <th></th>\n",
              "      <th>States, district,  &amp; territories</th>\n",
              "      <th>Obesity rank</th>\n",
              "      <th colspan=\"2\" halign=\"left\">Obese adults</th>\n",
              "      <th>Overweight (incl. obese) adults (mid-2000s)</th>\n",
              "      <th>Obese children and adolescents (mid-2000s)[96]</th>\n",
              "    </tr>\n",
              "    <tr>\n",
              "      <th></th>\n",
              "      <th>States, district,  &amp; territories</th>\n",
              "      <th>Obesity rank</th>\n",
              "      <th>(mid-2000s)</th>\n",
              "      <th>(2020)[91][97]</th>\n",
              "      <th>Overweight (incl. obese) adults (mid-2000s)</th>\n",
              "      <th>Obese children and adolescents (mid-2000s)[96]</th>\n",
              "    </tr>\n",
              "  </thead>\n",
              "  <tbody>\n",
              "    <tr>\n",
              "      <th>0</th>\n",
              "      <td>Alabama</td>\n",
              "      <td>5.0</td>\n",
              "      <td>30.1%</td>\n",
              "      <td>36.3%</td>\n",
              "      <td>65.4%</td>\n",
              "      <td>16.7%</td>\n",
              "    </tr>\n",
              "    <tr>\n",
              "      <th>1</th>\n",
              "      <td>Alaska</td>\n",
              "      <td>9.0</td>\n",
              "      <td>27.3%</td>\n",
              "      <td>34.2%</td>\n",
              "      <td>64.5%</td>\n",
              "      <td>11.1%</td>\n",
              "    </tr>\n",
              "    <tr>\n",
              "      <th>2</th>\n",
              "      <td>American Samoa</td>\n",
              "      <td>NaN</td>\n",
              "      <td>NaN</td>\n",
              "      <td>75%[95]</td>\n",
              "      <td>95%[98]</td>\n",
              "      <td>35%[95][99]</td>\n",
              "    </tr>\n",
              "    <tr>\n",
              "      <th>3</th>\n",
              "      <td>Arizona</td>\n",
              "      <td>30.0</td>\n",
              "      <td>23.3%</td>\n",
              "      <td>29.5%</td>\n",
              "      <td>59.5%</td>\n",
              "      <td>12.2%</td>\n",
              "    </tr>\n",
              "    <tr>\n",
              "      <th>4</th>\n",
              "      <td>Arkansas</td>\n",
              "      <td>7.0</td>\n",
              "      <td>28.1%</td>\n",
              "      <td>35.0%</td>\n",
              "      <td>64.7%</td>\n",
              "      <td>16.4%</td>\n",
              "    </tr>\n",
              "  </tbody>\n",
              "</table>\n",
              "</div>\n",
              "    <div class=\"colab-df-buttons\">\n",
              "\n",
              "  <div class=\"colab-df-container\">\n",
              "    <button class=\"colab-df-convert\" onclick=\"convertToInteractive('df-94612b0d-462d-4aa1-88af-2747cecd3f2a')\"\n",
              "            title=\"Convert this dataframe to an interactive table.\"\n",
              "            style=\"display:none;\">\n",
              "\n",
              "  <svg xmlns=\"http://www.w3.org/2000/svg\" height=\"24px\" viewBox=\"0 -960 960 960\">\n",
              "    <path d=\"M120-120v-720h720v720H120Zm60-500h600v-160H180v160Zm220 220h160v-160H400v160Zm0 220h160v-160H400v160ZM180-400h160v-160H180v160Zm440 0h160v-160H620v160ZM180-180h160v-160H180v160Zm440 0h160v-160H620v160Z\"/>\n",
              "  </svg>\n",
              "    </button>\n",
              "\n",
              "  <style>\n",
              "    .colab-df-container {\n",
              "      display:flex;\n",
              "      gap: 12px;\n",
              "    }\n",
              "\n",
              "    .colab-df-convert {\n",
              "      background-color: #E8F0FE;\n",
              "      border: none;\n",
              "      border-radius: 50%;\n",
              "      cursor: pointer;\n",
              "      display: none;\n",
              "      fill: #1967D2;\n",
              "      height: 32px;\n",
              "      padding: 0 0 0 0;\n",
              "      width: 32px;\n",
              "    }\n",
              "\n",
              "    .colab-df-convert:hover {\n",
              "      background-color: #E2EBFA;\n",
              "      box-shadow: 0px 1px 2px rgba(60, 64, 67, 0.3), 0px 1px 3px 1px rgba(60, 64, 67, 0.15);\n",
              "      fill: #174EA6;\n",
              "    }\n",
              "\n",
              "    .colab-df-buttons div {\n",
              "      margin-bottom: 4px;\n",
              "    }\n",
              "\n",
              "    [theme=dark] .colab-df-convert {\n",
              "      background-color: #3B4455;\n",
              "      fill: #D2E3FC;\n",
              "    }\n",
              "\n",
              "    [theme=dark] .colab-df-convert:hover {\n",
              "      background-color: #434B5C;\n",
              "      box-shadow: 0px 1px 3px 1px rgba(0, 0, 0, 0.15);\n",
              "      filter: drop-shadow(0px 1px 2px rgba(0, 0, 0, 0.3));\n",
              "      fill: #FFFFFF;\n",
              "    }\n",
              "  </style>\n",
              "\n",
              "    <script>\n",
              "      const buttonEl =\n",
              "        document.querySelector('#df-94612b0d-462d-4aa1-88af-2747cecd3f2a button.colab-df-convert');\n",
              "      buttonEl.style.display =\n",
              "        google.colab.kernel.accessAllowed ? 'block' : 'none';\n",
              "\n",
              "      async function convertToInteractive(key) {\n",
              "        const element = document.querySelector('#df-94612b0d-462d-4aa1-88af-2747cecd3f2a');\n",
              "        const dataTable =\n",
              "          await google.colab.kernel.invokeFunction('convertToInteractive',\n",
              "                                                    [key], {});\n",
              "        if (!dataTable) return;\n",
              "\n",
              "        const docLinkHtml = 'Like what you see? Visit the ' +\n",
              "          '<a target=\"_blank\" href=https://colab.research.google.com/notebooks/data_table.ipynb>data table notebook</a>'\n",
              "          + ' to learn more about interactive tables.';\n",
              "        element.innerHTML = '';\n",
              "        dataTable['output_type'] = 'display_data';\n",
              "        await google.colab.output.renderOutput(dataTable, element);\n",
              "        const docLink = document.createElement('div');\n",
              "        docLink.innerHTML = docLinkHtml;\n",
              "        element.appendChild(docLink);\n",
              "      }\n",
              "    </script>\n",
              "  </div>\n",
              "\n",
              "\n",
              "<div id=\"df-632ee9bb-1a89-45ea-a01d-4efe67565873\">\n",
              "  <button class=\"colab-df-quickchart\" onclick=\"quickchart('df-632ee9bb-1a89-45ea-a01d-4efe67565873')\"\n",
              "            title=\"Suggest charts\"\n",
              "            style=\"display:none;\">\n",
              "\n",
              "<svg xmlns=\"http://www.w3.org/2000/svg\" height=\"24px\"viewBox=\"0 0 24 24\"\n",
              "     width=\"24px\">\n",
              "    <g>\n",
              "        <path d=\"M19 3H5c-1.1 0-2 .9-2 2v14c0 1.1.9 2 2 2h14c1.1 0 2-.9 2-2V5c0-1.1-.9-2-2-2zM9 17H7v-7h2v7zm4 0h-2V7h2v10zm4 0h-2v-4h2v4z\"/>\n",
              "    </g>\n",
              "</svg>\n",
              "  </button>\n",
              "\n",
              "<style>\n",
              "  .colab-df-quickchart {\n",
              "      --bg-color: #E8F0FE;\n",
              "      --fill-color: #1967D2;\n",
              "      --hover-bg-color: #E2EBFA;\n",
              "      --hover-fill-color: #174EA6;\n",
              "      --disabled-fill-color: #AAA;\n",
              "      --disabled-bg-color: #DDD;\n",
              "  }\n",
              "\n",
              "  [theme=dark] .colab-df-quickchart {\n",
              "      --bg-color: #3B4455;\n",
              "      --fill-color: #D2E3FC;\n",
              "      --hover-bg-color: #434B5C;\n",
              "      --hover-fill-color: #FFFFFF;\n",
              "      --disabled-bg-color: #3B4455;\n",
              "      --disabled-fill-color: #666;\n",
              "  }\n",
              "\n",
              "  .colab-df-quickchart {\n",
              "    background-color: var(--bg-color);\n",
              "    border: none;\n",
              "    border-radius: 50%;\n",
              "    cursor: pointer;\n",
              "    display: none;\n",
              "    fill: var(--fill-color);\n",
              "    height: 32px;\n",
              "    padding: 0;\n",
              "    width: 32px;\n",
              "  }\n",
              "\n",
              "  .colab-df-quickchart:hover {\n",
              "    background-color: var(--hover-bg-color);\n",
              "    box-shadow: 0 1px 2px rgba(60, 64, 67, 0.3), 0 1px 3px 1px rgba(60, 64, 67, 0.15);\n",
              "    fill: var(--button-hover-fill-color);\n",
              "  }\n",
              "\n",
              "  .colab-df-quickchart-complete:disabled,\n",
              "  .colab-df-quickchart-complete:disabled:hover {\n",
              "    background-color: var(--disabled-bg-color);\n",
              "    fill: var(--disabled-fill-color);\n",
              "    box-shadow: none;\n",
              "  }\n",
              "\n",
              "  .colab-df-spinner {\n",
              "    border: 2px solid var(--fill-color);\n",
              "    border-color: transparent;\n",
              "    border-bottom-color: var(--fill-color);\n",
              "    animation:\n",
              "      spin 1s steps(1) infinite;\n",
              "  }\n",
              "\n",
              "  @keyframes spin {\n",
              "    0% {\n",
              "      border-color: transparent;\n",
              "      border-bottom-color: var(--fill-color);\n",
              "      border-left-color: var(--fill-color);\n",
              "    }\n",
              "    20% {\n",
              "      border-color: transparent;\n",
              "      border-left-color: var(--fill-color);\n",
              "      border-top-color: var(--fill-color);\n",
              "    }\n",
              "    30% {\n",
              "      border-color: transparent;\n",
              "      border-left-color: var(--fill-color);\n",
              "      border-top-color: var(--fill-color);\n",
              "      border-right-color: var(--fill-color);\n",
              "    }\n",
              "    40% {\n",
              "      border-color: transparent;\n",
              "      border-right-color: var(--fill-color);\n",
              "      border-top-color: var(--fill-color);\n",
              "    }\n",
              "    60% {\n",
              "      border-color: transparent;\n",
              "      border-right-color: var(--fill-color);\n",
              "    }\n",
              "    80% {\n",
              "      border-color: transparent;\n",
              "      border-right-color: var(--fill-color);\n",
              "      border-bottom-color: var(--fill-color);\n",
              "    }\n",
              "    90% {\n",
              "      border-color: transparent;\n",
              "      border-bottom-color: var(--fill-color);\n",
              "    }\n",
              "  }\n",
              "</style>\n",
              "\n",
              "  <script>\n",
              "    async function quickchart(key) {\n",
              "      const quickchartButtonEl =\n",
              "        document.querySelector('#' + key + ' button');\n",
              "      quickchartButtonEl.disabled = true;  // To prevent multiple clicks.\n",
              "      quickchartButtonEl.classList.add('colab-df-spinner');\n",
              "      try {\n",
              "        const charts = await google.colab.kernel.invokeFunction(\n",
              "            'suggestCharts', [key], {});\n",
              "      } catch (error) {\n",
              "        console.error('Error during call to suggestCharts:', error);\n",
              "      }\n",
              "      quickchartButtonEl.classList.remove('colab-df-spinner');\n",
              "      quickchartButtonEl.classList.add('colab-df-quickchart-complete');\n",
              "    }\n",
              "    (() => {\n",
              "      let quickchartButtonEl =\n",
              "        document.querySelector('#df-632ee9bb-1a89-45ea-a01d-4efe67565873 button');\n",
              "      quickchartButtonEl.style.display =\n",
              "        google.colab.kernel.accessAllowed ? 'block' : 'none';\n",
              "    })();\n",
              "  </script>\n",
              "</div>\n",
              "\n",
              "    </div>\n",
              "  </div>\n"
            ],
            "application/vnd.google.colaboratory.intrinsic+json": {
              "type": "dataframe",
              "variable_name": "obesity_df",
              "summary": "{\n  \"name\": \"obesity_df\",\n  \"rows\": 56,\n  \"fields\": [\n    {\n      \"column\": [\n        \"States, district,  & territories\",\n        \"States, district,  & territories\"\n      ],\n      \"properties\": {\n        \"dtype\": \"string\",\n        \"num_unique_values\": 56,\n        \"samples\": [\n          \"Alabama\",\n          \"California\",\n          \"New Mexico\"\n        ],\n        \"semantic_type\": \"\",\n        \"description\": \"\"\n      }\n    },\n    {\n      \"column\": [\n        \"Obesity rank\",\n        \"Obesity rank\"\n      ],\n      \"properties\": {\n        \"dtype\": \"number\",\n        \"std\": 14.814380930465544,\n        \"min\": 1.0,\n        \"max\": 51.0,\n        \"num_unique_values\": 46,\n        \"samples\": [\n          14.0,\n          46.0,\n          15.0\n        ],\n        \"semantic_type\": \"\",\n        \"description\": \"\"\n      }\n    },\n    {\n      \"column\": [\n        \"Obese adults\",\n        \"(mid-2000s)\"\n      ],\n      \"properties\": {\n        \"dtype\": \"string\",\n        \"num_unique_values\": 44,\n        \"samples\": [\n          \"27.2%\",\n          \"21.7%\",\n          \"26.5%\"\n        ],\n        \"semantic_type\": \"\",\n        \"description\": \"\"\n      }\n    },\n    {\n      \"column\": [\n        \"Obese adults\",\n        \"(2020)[91][97]\"\n      ],\n      \"properties\": {\n        \"dtype\": \"string\",\n        \"num_unique_values\": 49,\n        \"samples\": [\n          \"23.8%\",\n          \"27.7%\",\n          \"32.0%\"\n        ],\n        \"semantic_type\": \"\",\n        \"description\": \"\"\n      }\n    },\n    {\n      \"column\": [\n        \"Overweight (incl. obese) adults (mid-2000s)\",\n        \"Overweight (incl. obese) adults (mid-2000s)\"\n      ],\n      \"properties\": {\n        \"dtype\": \"string\",\n        \"num_unique_values\": 37,\n        \"samples\": [\n          \"66.8%\",\n          \"61.8%\",\n          \"64.7%\"\n        ],\n        \"semantic_type\": \"\",\n        \"description\": \"\"\n      }\n    },\n    {\n      \"column\": [\n        \"Obese children and adolescents (mid-2000s)[96]\",\n        \"Obese children and adolescents (mid-2000s)[96]\"\n      ],\n      \"properties\": {\n        \"dtype\": \"string\",\n        \"num_unique_values\": 47,\n        \"samples\": [\n          \"13.7%\",\n          \"19.1%\",\n          \"12.9%\"\n        ],\n        \"semantic_type\": \"\",\n        \"description\": \"\"\n      }\n    }\n  ]\n}"
            }
          },
          "metadata": {},
          "execution_count": 117
        }
      ],
      "source": [
        "# your code goes here\n",
        "tables=pd.read_html(url, na_values='—')\n",
        "obesity_df =tables[1]\n",
        "\n",
        "obesity_df.head()"
      ]
    },
    {
      "cell_type": "markdown",
      "metadata": {
        "id": "LZfAI54zlkI-"
      },
      "source": [
        "![green-divider](https://user-images.githubusercontent.com/7065401/52071924-c003ad80-2562-11e9-8297-1c6595f8a7ff.png)\n",
        "\n",
        "### Sort the states by _Obesity rank_ and get the 5 states at the top. Show name and obesity rank."
      ]
    },
    {
      "cell_type": "code",
      "execution_count": 109,
      "metadata": {
        "id": "0yS8jz5olkI-",
        "outputId": "2723278f-5b48-4ccb-bb0a-78a3285c4929",
        "colab": {
          "base_uri": "https://localhost:8080/",
          "height": 272
        }
      },
      "outputs": [
        {
          "output_type": "execute_result",
          "data": {
            "text/plain": [
              "   States, district,  & territories Obesity rank Obese adults                 \\\n",
              "   States, district,  & territories Obesity rank  (mid-2000s) (2020)[91][97]   \n",
              "53                    West Virginia          1.0        30.6%          38.1%   \n",
              "26                      Mississippi          2.0        34.4%          37.3%   \n",
              "39                         Oklahoma          3.0        28.1%          36.5%   \n",
              "17                             Iowa          4.0        26.3%          36.4%   \n",
              "0                           Alabama          5.0        30.1%          36.3%   \n",
              "\n",
              "   Overweight (incl. obese) adults (mid-2000s)  \\\n",
              "   Overweight (incl. obese) adults (mid-2000s)   \n",
              "53                                       66.8%   \n",
              "26                                       67.4%   \n",
              "39                                       64.2%   \n",
              "17                                       63.4%   \n",
              "0                                        65.4%   \n",
              "\n",
              "   Obese children and adolescents (mid-2000s)[96]  \n",
              "   Obese children and adolescents (mid-2000s)[96]  \n",
              "53                                          20.9%  \n",
              "26                                          17.8%  \n",
              "39                                          15.4%  \n",
              "17                                          12.5%  \n",
              "0                                           16.7%  "
            ],
            "text/html": [
              "\n",
              "  <div id=\"df-3eb88a1e-3480-4428-b176-1b6f009de072\" class=\"colab-df-container\">\n",
              "    <div>\n",
              "<style scoped>\n",
              "    .dataframe tbody tr th:only-of-type {\n",
              "        vertical-align: middle;\n",
              "    }\n",
              "\n",
              "    .dataframe tbody tr th {\n",
              "        vertical-align: top;\n",
              "    }\n",
              "\n",
              "    .dataframe thead tr th {\n",
              "        text-align: left;\n",
              "    }\n",
              "</style>\n",
              "<table border=\"1\" class=\"dataframe\">\n",
              "  <thead>\n",
              "    <tr>\n",
              "      <th></th>\n",
              "      <th>States, district,  &amp; territories</th>\n",
              "      <th>Obesity rank</th>\n",
              "      <th colspan=\"2\" halign=\"left\">Obese adults</th>\n",
              "      <th>Overweight (incl. obese) adults (mid-2000s)</th>\n",
              "      <th>Obese children and adolescents (mid-2000s)[96]</th>\n",
              "    </tr>\n",
              "    <tr>\n",
              "      <th></th>\n",
              "      <th>States, district,  &amp; territories</th>\n",
              "      <th>Obesity rank</th>\n",
              "      <th>(mid-2000s)</th>\n",
              "      <th>(2020)[91][97]</th>\n",
              "      <th>Overweight (incl. obese) adults (mid-2000s)</th>\n",
              "      <th>Obese children and adolescents (mid-2000s)[96]</th>\n",
              "    </tr>\n",
              "  </thead>\n",
              "  <tbody>\n",
              "    <tr>\n",
              "      <th>53</th>\n",
              "      <td>West Virginia</td>\n",
              "      <td>1.0</td>\n",
              "      <td>30.6%</td>\n",
              "      <td>38.1%</td>\n",
              "      <td>66.8%</td>\n",
              "      <td>20.9%</td>\n",
              "    </tr>\n",
              "    <tr>\n",
              "      <th>26</th>\n",
              "      <td>Mississippi</td>\n",
              "      <td>2.0</td>\n",
              "      <td>34.4%</td>\n",
              "      <td>37.3%</td>\n",
              "      <td>67.4%</td>\n",
              "      <td>17.8%</td>\n",
              "    </tr>\n",
              "    <tr>\n",
              "      <th>39</th>\n",
              "      <td>Oklahoma</td>\n",
              "      <td>3.0</td>\n",
              "      <td>28.1%</td>\n",
              "      <td>36.5%</td>\n",
              "      <td>64.2%</td>\n",
              "      <td>15.4%</td>\n",
              "    </tr>\n",
              "    <tr>\n",
              "      <th>17</th>\n",
              "      <td>Iowa</td>\n",
              "      <td>4.0</td>\n",
              "      <td>26.3%</td>\n",
              "      <td>36.4%</td>\n",
              "      <td>63.4%</td>\n",
              "      <td>12.5%</td>\n",
              "    </tr>\n",
              "    <tr>\n",
              "      <th>0</th>\n",
              "      <td>Alabama</td>\n",
              "      <td>5.0</td>\n",
              "      <td>30.1%</td>\n",
              "      <td>36.3%</td>\n",
              "      <td>65.4%</td>\n",
              "      <td>16.7%</td>\n",
              "    </tr>\n",
              "  </tbody>\n",
              "</table>\n",
              "</div>\n",
              "    <div class=\"colab-df-buttons\">\n",
              "\n",
              "  <div class=\"colab-df-container\">\n",
              "    <button class=\"colab-df-convert\" onclick=\"convertToInteractive('df-3eb88a1e-3480-4428-b176-1b6f009de072')\"\n",
              "            title=\"Convert this dataframe to an interactive table.\"\n",
              "            style=\"display:none;\">\n",
              "\n",
              "  <svg xmlns=\"http://www.w3.org/2000/svg\" height=\"24px\" viewBox=\"0 -960 960 960\">\n",
              "    <path d=\"M120-120v-720h720v720H120Zm60-500h600v-160H180v160Zm220 220h160v-160H400v160Zm0 220h160v-160H400v160ZM180-400h160v-160H180v160Zm440 0h160v-160H620v160ZM180-180h160v-160H180v160Zm440 0h160v-160H620v160Z\"/>\n",
              "  </svg>\n",
              "    </button>\n",
              "\n",
              "  <style>\n",
              "    .colab-df-container {\n",
              "      display:flex;\n",
              "      gap: 12px;\n",
              "    }\n",
              "\n",
              "    .colab-df-convert {\n",
              "      background-color: #E8F0FE;\n",
              "      border: none;\n",
              "      border-radius: 50%;\n",
              "      cursor: pointer;\n",
              "      display: none;\n",
              "      fill: #1967D2;\n",
              "      height: 32px;\n",
              "      padding: 0 0 0 0;\n",
              "      width: 32px;\n",
              "    }\n",
              "\n",
              "    .colab-df-convert:hover {\n",
              "      background-color: #E2EBFA;\n",
              "      box-shadow: 0px 1px 2px rgba(60, 64, 67, 0.3), 0px 1px 3px 1px rgba(60, 64, 67, 0.15);\n",
              "      fill: #174EA6;\n",
              "    }\n",
              "\n",
              "    .colab-df-buttons div {\n",
              "      margin-bottom: 4px;\n",
              "    }\n",
              "\n",
              "    [theme=dark] .colab-df-convert {\n",
              "      background-color: #3B4455;\n",
              "      fill: #D2E3FC;\n",
              "    }\n",
              "\n",
              "    [theme=dark] .colab-df-convert:hover {\n",
              "      background-color: #434B5C;\n",
              "      box-shadow: 0px 1px 3px 1px rgba(0, 0, 0, 0.15);\n",
              "      filter: drop-shadow(0px 1px 2px rgba(0, 0, 0, 0.3));\n",
              "      fill: #FFFFFF;\n",
              "    }\n",
              "  </style>\n",
              "\n",
              "    <script>\n",
              "      const buttonEl =\n",
              "        document.querySelector('#df-3eb88a1e-3480-4428-b176-1b6f009de072 button.colab-df-convert');\n",
              "      buttonEl.style.display =\n",
              "        google.colab.kernel.accessAllowed ? 'block' : 'none';\n",
              "\n",
              "      async function convertToInteractive(key) {\n",
              "        const element = document.querySelector('#df-3eb88a1e-3480-4428-b176-1b6f009de072');\n",
              "        const dataTable =\n",
              "          await google.colab.kernel.invokeFunction('convertToInteractive',\n",
              "                                                    [key], {});\n",
              "        if (!dataTable) return;\n",
              "\n",
              "        const docLinkHtml = 'Like what you see? Visit the ' +\n",
              "          '<a target=\"_blank\" href=https://colab.research.google.com/notebooks/data_table.ipynb>data table notebook</a>'\n",
              "          + ' to learn more about interactive tables.';\n",
              "        element.innerHTML = '';\n",
              "        dataTable['output_type'] = 'display_data';\n",
              "        await google.colab.output.renderOutput(dataTable, element);\n",
              "        const docLink = document.createElement('div');\n",
              "        docLink.innerHTML = docLinkHtml;\n",
              "        element.appendChild(docLink);\n",
              "      }\n",
              "    </script>\n",
              "  </div>\n",
              "\n",
              "\n",
              "<div id=\"df-7677a3a4-ea3c-4314-8fa2-e13561f56218\">\n",
              "  <button class=\"colab-df-quickchart\" onclick=\"quickchart('df-7677a3a4-ea3c-4314-8fa2-e13561f56218')\"\n",
              "            title=\"Suggest charts\"\n",
              "            style=\"display:none;\">\n",
              "\n",
              "<svg xmlns=\"http://www.w3.org/2000/svg\" height=\"24px\"viewBox=\"0 0 24 24\"\n",
              "     width=\"24px\">\n",
              "    <g>\n",
              "        <path d=\"M19 3H5c-1.1 0-2 .9-2 2v14c0 1.1.9 2 2 2h14c1.1 0 2-.9 2-2V5c0-1.1-.9-2-2-2zM9 17H7v-7h2v7zm4 0h-2V7h2v10zm4 0h-2v-4h2v4z\"/>\n",
              "    </g>\n",
              "</svg>\n",
              "  </button>\n",
              "\n",
              "<style>\n",
              "  .colab-df-quickchart {\n",
              "      --bg-color: #E8F0FE;\n",
              "      --fill-color: #1967D2;\n",
              "      --hover-bg-color: #E2EBFA;\n",
              "      --hover-fill-color: #174EA6;\n",
              "      --disabled-fill-color: #AAA;\n",
              "      --disabled-bg-color: #DDD;\n",
              "  }\n",
              "\n",
              "  [theme=dark] .colab-df-quickchart {\n",
              "      --bg-color: #3B4455;\n",
              "      --fill-color: #D2E3FC;\n",
              "      --hover-bg-color: #434B5C;\n",
              "      --hover-fill-color: #FFFFFF;\n",
              "      --disabled-bg-color: #3B4455;\n",
              "      --disabled-fill-color: #666;\n",
              "  }\n",
              "\n",
              "  .colab-df-quickchart {\n",
              "    background-color: var(--bg-color);\n",
              "    border: none;\n",
              "    border-radius: 50%;\n",
              "    cursor: pointer;\n",
              "    display: none;\n",
              "    fill: var(--fill-color);\n",
              "    height: 32px;\n",
              "    padding: 0;\n",
              "    width: 32px;\n",
              "  }\n",
              "\n",
              "  .colab-df-quickchart:hover {\n",
              "    background-color: var(--hover-bg-color);\n",
              "    box-shadow: 0 1px 2px rgba(60, 64, 67, 0.3), 0 1px 3px 1px rgba(60, 64, 67, 0.15);\n",
              "    fill: var(--button-hover-fill-color);\n",
              "  }\n",
              "\n",
              "  .colab-df-quickchart-complete:disabled,\n",
              "  .colab-df-quickchart-complete:disabled:hover {\n",
              "    background-color: var(--disabled-bg-color);\n",
              "    fill: var(--disabled-fill-color);\n",
              "    box-shadow: none;\n",
              "  }\n",
              "\n",
              "  .colab-df-spinner {\n",
              "    border: 2px solid var(--fill-color);\n",
              "    border-color: transparent;\n",
              "    border-bottom-color: var(--fill-color);\n",
              "    animation:\n",
              "      spin 1s steps(1) infinite;\n",
              "  }\n",
              "\n",
              "  @keyframes spin {\n",
              "    0% {\n",
              "      border-color: transparent;\n",
              "      border-bottom-color: var(--fill-color);\n",
              "      border-left-color: var(--fill-color);\n",
              "    }\n",
              "    20% {\n",
              "      border-color: transparent;\n",
              "      border-left-color: var(--fill-color);\n",
              "      border-top-color: var(--fill-color);\n",
              "    }\n",
              "    30% {\n",
              "      border-color: transparent;\n",
              "      border-left-color: var(--fill-color);\n",
              "      border-top-color: var(--fill-color);\n",
              "      border-right-color: var(--fill-color);\n",
              "    }\n",
              "    40% {\n",
              "      border-color: transparent;\n",
              "      border-right-color: var(--fill-color);\n",
              "      border-top-color: var(--fill-color);\n",
              "    }\n",
              "    60% {\n",
              "      border-color: transparent;\n",
              "      border-right-color: var(--fill-color);\n",
              "    }\n",
              "    80% {\n",
              "      border-color: transparent;\n",
              "      border-right-color: var(--fill-color);\n",
              "      border-bottom-color: var(--fill-color);\n",
              "    }\n",
              "    90% {\n",
              "      border-color: transparent;\n",
              "      border-bottom-color: var(--fill-color);\n",
              "    }\n",
              "  }\n",
              "</style>\n",
              "\n",
              "  <script>\n",
              "    async function quickchart(key) {\n",
              "      const quickchartButtonEl =\n",
              "        document.querySelector('#' + key + ' button');\n",
              "      quickchartButtonEl.disabled = true;  // To prevent multiple clicks.\n",
              "      quickchartButtonEl.classList.add('colab-df-spinner');\n",
              "      try {\n",
              "        const charts = await google.colab.kernel.invokeFunction(\n",
              "            'suggestCharts', [key], {});\n",
              "      } catch (error) {\n",
              "        console.error('Error during call to suggestCharts:', error);\n",
              "      }\n",
              "      quickchartButtonEl.classList.remove('colab-df-spinner');\n",
              "      quickchartButtonEl.classList.add('colab-df-quickchart-complete');\n",
              "    }\n",
              "    (() => {\n",
              "      let quickchartButtonEl =\n",
              "        document.querySelector('#df-7677a3a4-ea3c-4314-8fa2-e13561f56218 button');\n",
              "      quickchartButtonEl.style.display =\n",
              "        google.colab.kernel.accessAllowed ? 'block' : 'none';\n",
              "    })();\n",
              "  </script>\n",
              "</div>\n",
              "\n",
              "  <div id=\"id_1594589d-267a-4d0a-9d06-7cb544ee1cb5\">\n",
              "    <style>\n",
              "      .colab-df-generate {\n",
              "        background-color: #E8F0FE;\n",
              "        border: none;\n",
              "        border-radius: 50%;\n",
              "        cursor: pointer;\n",
              "        display: none;\n",
              "        fill: #1967D2;\n",
              "        height: 32px;\n",
              "        padding: 0 0 0 0;\n",
              "        width: 32px;\n",
              "      }\n",
              "\n",
              "      .colab-df-generate:hover {\n",
              "        background-color: #E2EBFA;\n",
              "        box-shadow: 0px 1px 2px rgba(60, 64, 67, 0.3), 0px 1px 3px 1px rgba(60, 64, 67, 0.15);\n",
              "        fill: #174EA6;\n",
              "      }\n",
              "\n",
              "      [theme=dark] .colab-df-generate {\n",
              "        background-color: #3B4455;\n",
              "        fill: #D2E3FC;\n",
              "      }\n",
              "\n",
              "      [theme=dark] .colab-df-generate:hover {\n",
              "        background-color: #434B5C;\n",
              "        box-shadow: 0px 1px 3px 1px rgba(0, 0, 0, 0.15);\n",
              "        filter: drop-shadow(0px 1px 2px rgba(0, 0, 0, 0.3));\n",
              "        fill: #FFFFFF;\n",
              "      }\n",
              "    </style>\n",
              "    <button class=\"colab-df-generate\" onclick=\"generateWithVariable('top_5_states')\"\n",
              "            title=\"Generate code using this dataframe.\"\n",
              "            style=\"display:none;\">\n",
              "\n",
              "  <svg xmlns=\"http://www.w3.org/2000/svg\" height=\"24px\"viewBox=\"0 0 24 24\"\n",
              "       width=\"24px\">\n",
              "    <path d=\"M7,19H8.4L18.45,9,17,7.55,7,17.6ZM5,21V16.75L18.45,3.32a2,2,0,0,1,2.83,0l1.4,1.43a1.91,1.91,0,0,1,.58,1.4,1.91,1.91,0,0,1-.58,1.4L9.25,21ZM18.45,9,17,7.55Zm-12,3A5.31,5.31,0,0,0,4.9,8.1,5.31,5.31,0,0,0,1,6.5,5.31,5.31,0,0,0,4.9,4.9,5.31,5.31,0,0,0,6.5,1,5.31,5.31,0,0,0,8.1,4.9,5.31,5.31,0,0,0,12,6.5,5.46,5.46,0,0,0,6.5,12Z\"/>\n",
              "  </svg>\n",
              "    </button>\n",
              "    <script>\n",
              "      (() => {\n",
              "      const buttonEl =\n",
              "        document.querySelector('#id_1594589d-267a-4d0a-9d06-7cb544ee1cb5 button.colab-df-generate');\n",
              "      buttonEl.style.display =\n",
              "        google.colab.kernel.accessAllowed ? 'block' : 'none';\n",
              "\n",
              "      buttonEl.onclick = () => {\n",
              "        google.colab.notebook.generateWithVariable('top_5_states');\n",
              "      }\n",
              "      })();\n",
              "    </script>\n",
              "  </div>\n",
              "\n",
              "    </div>\n",
              "  </div>\n"
            ],
            "application/vnd.google.colaboratory.intrinsic+json": {
              "type": "dataframe",
              "variable_name": "top_5_states",
              "summary": "{\n  \"name\": \"top_5_states\",\n  \"rows\": 5,\n  \"fields\": [\n    {\n      \"column\": [\n        \"States, district,  & territories\",\n        \"States, district,  & territories\"\n      ],\n      \"properties\": {\n        \"dtype\": \"string\",\n        \"num_unique_values\": 5,\n        \"samples\": [\n          \"Mississippi\",\n          \"Alabama\",\n          \"Oklahoma\"\n        ],\n        \"semantic_type\": \"\",\n        \"description\": \"\"\n      }\n    },\n    {\n      \"column\": [\n        \"Obesity rank\",\n        \"Obesity rank\"\n      ],\n      \"properties\": {\n        \"dtype\": \"number\",\n        \"std\": 1.5811388300841898,\n        \"min\": 1.0,\n        \"max\": 5.0,\n        \"num_unique_values\": 5,\n        \"samples\": [\n          2.0,\n          5.0,\n          3.0\n        ],\n        \"semantic_type\": \"\",\n        \"description\": \"\"\n      }\n    },\n    {\n      \"column\": [\n        \"Obese adults\",\n        \"(mid-2000s)\"\n      ],\n      \"properties\": {\n        \"dtype\": \"string\",\n        \"num_unique_values\": 5,\n        \"samples\": [\n          \"34.4%\",\n          \"30.1%\",\n          \"28.1%\"\n        ],\n        \"semantic_type\": \"\",\n        \"description\": \"\"\n      }\n    },\n    {\n      \"column\": [\n        \"Obese adults\",\n        \"(2020)[91][97]\"\n      ],\n      \"properties\": {\n        \"dtype\": \"string\",\n        \"num_unique_values\": 5,\n        \"samples\": [\n          \"37.3%\",\n          \"36.3%\",\n          \"36.5%\"\n        ],\n        \"semantic_type\": \"\",\n        \"description\": \"\"\n      }\n    },\n    {\n      \"column\": [\n        \"Overweight (incl. obese) adults (mid-2000s)\",\n        \"Overweight (incl. obese) adults (mid-2000s)\"\n      ],\n      \"properties\": {\n        \"dtype\": \"string\",\n        \"num_unique_values\": 5,\n        \"samples\": [\n          \"67.4%\",\n          \"65.4%\",\n          \"64.2%\"\n        ],\n        \"semantic_type\": \"\",\n        \"description\": \"\"\n      }\n    },\n    {\n      \"column\": [\n        \"Obese children and adolescents (mid-2000s)[96]\",\n        \"Obese children and adolescents (mid-2000s)[96]\"\n      ],\n      \"properties\": {\n        \"dtype\": \"string\",\n        \"num_unique_values\": 5,\n        \"samples\": [\n          \"17.8%\",\n          \"16.7%\",\n          \"15.4%\"\n        ],\n        \"semantic_type\": \"\",\n        \"description\": \"\"\n      }\n    }\n  ]\n}"
            }
          },
          "metadata": {},
          "execution_count": 109
        }
      ],
      "source": [
        "# your code goes here\n",
        "sorted_df = obesity_df.sort_values(('Obesity rank','Obesity rank'))\n",
        "top_5_states = sorted_df.head(5)\n",
        "top_5_states"
      ]
    },
    {
      "cell_type": "markdown",
      "metadata": {
        "id": "qcEFb16ylkI_"
      },
      "source": [
        "![purple-divider](https://user-images.githubusercontent.com/7065401/52071927-c1cd7100-2562-11e9-908a-dde91ba14e59.png)"
      ]
    }
  ],
  "metadata": {
    "kernelspec": {
      "display_name": "Python 3",
      "language": "python",
      "name": "python3"
    },
    "language_info": {
      "codemirror_mode": {
        "name": "ipython",
        "version": 3
      },
      "file_extension": ".py",
      "mimetype": "text/x-python",
      "name": "python",
      "nbconvert_exporter": "python",
      "pygments_lexer": "ipython3",
      "version": "3.7.7"
    },
    "colab": {
      "provenance": []
    }
  },
  "nbformat": 4,
  "nbformat_minor": 0
}